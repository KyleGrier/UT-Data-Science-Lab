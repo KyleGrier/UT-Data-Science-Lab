{
 "cells": [
  {
   "cell_type": "markdown",
   "metadata": {},
   "source": [
    "Problem #1 "
   ]
  },
  {
   "cell_type": "code",
   "execution_count": 1,
   "metadata": {
    "collapsed": true
   },
   "outputs": [],
   "source": [
    "import numpy as np\n",
    "import matplotlib.pyplot as plt\n",
    "import seaborn as sns\n",
    "import pandas as pd\n",
    "%matplotlib inline"
   ]
  },
  {
   "cell_type": "markdown",
   "metadata": {},
   "source": [
    "1) Create 1000 samples from a Gaussian distribution with mean -10 and standard deviation 5.\n",
    "Create another 1000 samples from another independent Gaussian with mean 10 and standard\n",
    "deviation 5.\n",
    "(a) Take the sum of 2 these Gaussians by adding the two sets of 1000 points, point by point,\n",
    "and plot the histogram of the resulting 1000 points. What do you observe?\n",
    "(b) Estimate the mean and the variance of the sum."
   ]
  },
  {
   "cell_type": "code",
   "execution_count": 2,
   "metadata": {},
   "outputs": [
    {
     "data": {
      "text/plain": [
       "<matplotlib.axes._subplots.AxesSubplot at 0x1f64cc08b38>"
      ]
     },
     "execution_count": 2,
     "metadata": {},
     "output_type": "execute_result"
    },
    {
     "data": {
      "image/png": "[encoded data removed]",
      "text/plain": [
       "<matplotlib.figure.Figure at 0x1f64cc08470>"
      ]
     },
     "metadata": {},
     "output_type": "display_data"
    }
   ],
   "source": [
    "# take samples from the required gaussian distribution\n",
    "sample1 = np.random.normal(loc=-10, scale=5, size=1000)\n",
    "sample2 = np.random.normal(loc=10, scale=5, size=1000)\n",
    "\n",
    "# sum the samples\n",
    "sample_sum = sample1 + sample2\n",
    "\n",
    "# plot histogram of sample_sum\n",
    "#plt.hist(sample_sum, 100, facecolor='green', alpha=0.75)\n",
    "sns.distplot(sample_sum, kde = False, hist_kws=dict(edgecolor=\"k\", linewidth=2))"
   ]
  },
  {
   "cell_type": "code",
   "execution_count": 3,
   "metadata": {},
   "outputs": [
    {
     "name": "stdout",
     "output_type": "stream",
     "text": [
      "The sample mean is: 0.06002962031\n",
      "The sample variance is: 51.6129998274\n"
     ]
    }
   ],
   "source": [
    "sample_mean = np.mean(sample_sum)\n",
    "sample_var = np.var(sample_sum)\n",
    "print(\"The sample mean is: \" + str(sample_mean))\n",
    "print(\"The sample variance is: \" + str(sample_var))"
   ]
  },
  {
   "cell_type": "markdown",
   "metadata": {},
   "source": [
    "2) Central Limit Theorem. Let Xi be an iid Bernoulli random variable with value f-1,1g.\n",
    "Look at the random variable Zn = 1\n",
    "n\n",
    "P\n",
    "Xi. By taking 1000 draws from Zn, plot its histogram.\n",
    "Check that for small n (say, 5-10) Zn does not look that much like a Gaussian, but when n\n",
    "is bigger (already by the time n = 30 or 50) it looks much more like a Gaussian. Check also\n",
    "for much bigger n: n = 250, to see that at this point, one can really see the bell curve."
   ]
  },
  {
   "cell_type": "code",
   "execution_count": 4,
   "metadata": {
    "collapsed": true
   },
   "outputs": [],
   "source": [
    "#Sample the Bernoulli R.V.\n",
    "sample_sizes = [7, 40, 250]\n",
    "Z = list()\n",
    "for i, s in enumerate(sample_sizes):\n",
    "    new_Z = list()\n",
    "    for _ in range(1000):\n",
    "        sample_bern = np.random.choice([-1,1], size=s)\n",
    "        sample_sum = np.sum(sample_bern)\n",
    "        new_Z.append(sample_sum / s)\n",
    "    Z.append(new_Z)"
   ]
  },
  {
   "cell_type": "code",
   "execution_count": 5,
   "metadata": {},
   "outputs": [
    {
     "data": {
      "text/plain": [
       "<matplotlib.axes._subplots.AxesSubplot at 0x1f64ce2c400>"
      ]
     },
     "execution_count": 5,
     "metadata": {},
     "output_type": "execute_result"
    },
    {
     "data": {
      "image/png": "[encoded data removed]",
      "text/plain": [
       "<matplotlib.figure.Figure at 0x1f64cc080f0>"
      ]
     },
     "metadata": {},
     "output_type": "display_data"
    }
   ],
   "source": [
    "sns.distplot(Z[0], kde=False, hist_kws=dict(edgecolor=\"k\", linewidth=2))"
   ]
  },
  {
   "cell_type": "code",
   "execution_count": 6,
   "metadata": {},
   "outputs": [
    {
     "data": {
      "text/plain": [
       "<matplotlib.axes._subplots.AxesSubplot at 0x1f64d1ef7f0>"
      ]
     },
     "execution_count": 6,
     "metadata": {},
     "output_type": "execute_result"
    },
    {
     "data": {
      "image/png": "[encoded data removed]",
      "text/plain": [
       "<matplotlib.figure.Figure at 0x1f64d12e2e8>"
      ]
     },
     "metadata": {},
     "output_type": "display_data"
    }
   ],
   "source": [
    "sns.distplot(Z[1], kde=False, hist_kws=dict(edgecolor=\"k\", linewidth=2))"
   ]
  },
  {
   "cell_type": "code",
   "execution_count": 7,
   "metadata": {
    "scrolled": true
   },
   "outputs": [
    {
     "data": {
      "text/plain": [
       "<matplotlib.axes._subplots.AxesSubplot at 0x1f64d325240>"
      ]
     },
     "execution_count": 7,
     "metadata": {},
     "output_type": "execute_result"
    },
    {
     "data": {
      "image/png": "[encoded data removed]",
      "text/plain": [
       "<matplotlib.figure.Figure at 0x1f64d3483c8>"
      ]
     },
     "metadata": {},
     "output_type": "display_data"
    }
   ],
   "source": [
    "sns.distplot(Z[2], kde=False, hist_kws=dict(edgecolor=\"k\", linewidth=2))"
   ]
  },
  {
   "cell_type": "markdown",
   "metadata": {},
   "source": [
    "3) Estimate the mean and standard deviation from 1 dimensional data: generate 25,000 samples\n",
    "from a Gaussian distribution with mean 0 and standard deviation 5. Then estimate the mean\n",
    "and standard deviation of this gaussian using elementary numpy commands, i.e., addition,\n",
    "multiplication, division (do not use a command that takes data and returns the mean or\n",
    "standard deviation)."
   ]
  },
  {
   "cell_type": "code",
   "execution_count": 8,
   "metadata": {},
   "outputs": [
    {
     "name": "stdout",
     "output_type": "stream",
     "text": [
      "The sample mean = -0.0103132844099\n",
      "The sample standard deviation = 4.98977148343\n"
     ]
    }
   ],
   "source": [
    "samples = np.random.normal(loc=0, scale=5, size=25000)\n",
    "sample_mean = np.sum(samples) / len(samples)\n",
    "var_init = samples - sample_mean\n",
    "var_square = var_init * var_init\n",
    "sample_var =  np.sum(var_square) / len(samples)\n",
    "sample_std = np.sqrt(sample_var)\n",
    "print(\"The sample mean = \" + str(sample_mean))\n",
    "print(\"The sample standard deviation = \" + str(sample_std))"
   ]
  },
  {
   "cell_type": "markdown",
   "metadata": {},
   "source": [
    "4) Estimate the mean and covariance matrix for multi-dimensional data"
   ]
  },
  {
   "cell_type": "code",
   "execution_count": 9,
   "metadata": {
    "collapsed": true
   },
   "outputs": [],
   "source": [
    "mult_mean = [-5, 5]\n",
    "mult_cov = [[20, 0.8], [0.8, 30]]\n",
    "mult_sample = np.random.multivariate_normal(mult_mean, mult_cov, 10000)"
   ]
  },
  {
   "cell_type": "code",
   "execution_count": 10,
   "metadata": {},
   "outputs": [
    {
     "name": "stdout",
     "output_type": "stream",
     "text": [
      "Dimension 1 (x1) has a mean = -4.96680854635\n",
      "Dimension 2 (x2) has a mean = 5.00988861879\n"
     ]
    }
   ],
   "source": [
    "x1 = mult_sample[:,0]\n",
    "x2 = mult_sample[:,1]\n",
    "x1_mean = np.sum(x1) / 10000\n",
    "x2_mean = np.sum(x2) / 10000\n",
    "print(\"Dimension 1 (x1) has a mean = \" + str(x1_mean))\n",
    "print(\"Dimension 2 (x2) has a mean = \" + str(x2_mean))"
   ]
  },
  {
   "cell_type": "code",
   "execution_count": 11,
   "metadata": {},
   "outputs": [
    {
     "name": "stdout",
     "output_type": "stream",
     "text": [
      "Covariance Matrix = [[ 19.94407538   0.9903637 ]\n",
      " [  0.9903637   30.70665104]]\n"
     ]
    }
   ],
   "source": [
    "x1_init = x1 - x1_mean\n",
    "x2_init = x2 - x2_mean\n",
    "x1_var = np.var(x1)\n",
    "x2_var = np.var(x2)\n",
    "mult_covar = np.sum(x1_init * x2_init) / 10000\n",
    "covar_matrix = np.matrix([[x1_var, mult_covar], [mult_covar, x2_var]])\n",
    "print(\"Covariance Matrix = \" + str(covar_matrix))"
   ]
  },
  {
   "cell_type": "markdown",
   "metadata": {},
   "source": [
    "5) Download from Canvas/Files the dataset PatientData.csv.\n",
    "1\n",
    "Each row is a patient and the last column is the condition that the patient has. Do data\n",
    "exploration using Pandas and other visualization tools to understand what you can about the\n",
    "dataset. For example:"
   ]
  },
  {
   "cell_type": "code",
   "execution_count": 12,
   "metadata": {
    "collapsed": true
   },
   "outputs": [],
   "source": [
    "patient_data = pd.read_csv('PatientData.csv', header=None)"
   ]
  },
  {
   "cell_type": "code",
   "execution_count": 13,
   "metadata": {},
   "outputs": [
    {
     "data": {
      "text/html": [
       "<div>\n",
       "<style>\n",
       "    .dataframe thead tr:only-child th {\n",
       "        text-align: right;\n",
       "    }\n",
       "\n",
       "    .dataframe thead th {\n",
       "        text-align: left;\n",
       "    }\n",
       "\n",
       "    .dataframe tbody tr th {\n",
       "        vertical-align: top;\n",
       "    }\n",
       "</style>\n",
       "<table border=\"1\" class=\"dataframe\">\n",
       "  <thead>\n",
       "    <tr style=\"text-align: right;\">\n",
       "      <th></th>\n",
       "      <th>0</th>\n",
       "      <th>1</th>\n",
       "      <th>2</th>\n",
       "      <th>3</th>\n",
       "      <th>4</th>\n",
       "      <th>5</th>\n",
       "      <th>6</th>\n",
       "      <th>7</th>\n",
       "      <th>8</th>\n",
       "      <th>9</th>\n",
       "      <th>...</th>\n",
       "      <th>270</th>\n",
       "      <th>271</th>\n",
       "      <th>272</th>\n",
       "      <th>273</th>\n",
       "      <th>274</th>\n",
       "      <th>275</th>\n",
       "      <th>276</th>\n",
       "      <th>277</th>\n",
       "      <th>278</th>\n",
       "      <th>279</th>\n",
       "    </tr>\n",
       "  </thead>\n",
       "  <tbody>\n",
       "    <tr>\n",
       "      <th>0</th>\n",
       "      <td>75</td>\n",
       "      <td>0</td>\n",
       "      <td>190</td>\n",
       "      <td>80</td>\n",
       "      <td>91</td>\n",
       "      <td>193</td>\n",
       "      <td>371</td>\n",
       "      <td>174</td>\n",
       "      <td>121</td>\n",
       "      <td>-16</td>\n",
       "      <td>...</td>\n",
       "      <td>0.0</td>\n",
       "      <td>9.0</td>\n",
       "      <td>-0.9</td>\n",
       "      <td>0.0</td>\n",
       "      <td>0.0</td>\n",
       "      <td>0.9</td>\n",
       "      <td>2.9</td>\n",
       "      <td>23.3</td>\n",
       "      <td>49.4</td>\n",
       "      <td>8</td>\n",
       "    </tr>\n",
       "    <tr>\n",
       "      <th>1</th>\n",
       "      <td>56</td>\n",
       "      <td>1</td>\n",
       "      <td>165</td>\n",
       "      <td>64</td>\n",
       "      <td>81</td>\n",
       "      <td>174</td>\n",
       "      <td>401</td>\n",
       "      <td>149</td>\n",
       "      <td>39</td>\n",
       "      <td>25</td>\n",
       "      <td>...</td>\n",
       "      <td>0.0</td>\n",
       "      <td>8.5</td>\n",
       "      <td>0.0</td>\n",
       "      <td>0.0</td>\n",
       "      <td>0.0</td>\n",
       "      <td>0.2</td>\n",
       "      <td>2.1</td>\n",
       "      <td>20.4</td>\n",
       "      <td>38.8</td>\n",
       "      <td>6</td>\n",
       "    </tr>\n",
       "    <tr>\n",
       "      <th>2</th>\n",
       "      <td>54</td>\n",
       "      <td>0</td>\n",
       "      <td>172</td>\n",
       "      <td>95</td>\n",
       "      <td>138</td>\n",
       "      <td>163</td>\n",
       "      <td>386</td>\n",
       "      <td>185</td>\n",
       "      <td>102</td>\n",
       "      <td>96</td>\n",
       "      <td>...</td>\n",
       "      <td>0.0</td>\n",
       "      <td>9.5</td>\n",
       "      <td>-2.4</td>\n",
       "      <td>0.0</td>\n",
       "      <td>0.0</td>\n",
       "      <td>0.3</td>\n",
       "      <td>3.4</td>\n",
       "      <td>12.3</td>\n",
       "      <td>49.0</td>\n",
       "      <td>10</td>\n",
       "    </tr>\n",
       "    <tr>\n",
       "      <th>3</th>\n",
       "      <td>55</td>\n",
       "      <td>0</td>\n",
       "      <td>175</td>\n",
       "      <td>94</td>\n",
       "      <td>100</td>\n",
       "      <td>202</td>\n",
       "      <td>380</td>\n",
       "      <td>179</td>\n",
       "      <td>143</td>\n",
       "      <td>28</td>\n",
       "      <td>...</td>\n",
       "      <td>0.0</td>\n",
       "      <td>12.2</td>\n",
       "      <td>-2.2</td>\n",
       "      <td>0.0</td>\n",
       "      <td>0.0</td>\n",
       "      <td>0.4</td>\n",
       "      <td>2.6</td>\n",
       "      <td>34.6</td>\n",
       "      <td>61.6</td>\n",
       "      <td>1</td>\n",
       "    </tr>\n",
       "    <tr>\n",
       "      <th>4</th>\n",
       "      <td>75</td>\n",
       "      <td>0</td>\n",
       "      <td>190</td>\n",
       "      <td>80</td>\n",
       "      <td>88</td>\n",
       "      <td>181</td>\n",
       "      <td>360</td>\n",
       "      <td>177</td>\n",
       "      <td>103</td>\n",
       "      <td>-16</td>\n",
       "      <td>...</td>\n",
       "      <td>0.0</td>\n",
       "      <td>13.1</td>\n",
       "      <td>-3.6</td>\n",
       "      <td>0.0</td>\n",
       "      <td>0.0</td>\n",
       "      <td>-0.1</td>\n",
       "      <td>3.9</td>\n",
       "      <td>25.4</td>\n",
       "      <td>62.8</td>\n",
       "      <td>7</td>\n",
       "    </tr>\n",
       "    <tr>\n",
       "      <th>5</th>\n",
       "      <td>13</td>\n",
       "      <td>0</td>\n",
       "      <td>169</td>\n",
       "      <td>51</td>\n",
       "      <td>100</td>\n",
       "      <td>167</td>\n",
       "      <td>321</td>\n",
       "      <td>174</td>\n",
       "      <td>91</td>\n",
       "      <td>107</td>\n",
       "      <td>...</td>\n",
       "      <td>-0.6</td>\n",
       "      <td>12.2</td>\n",
       "      <td>-2.8</td>\n",
       "      <td>0.0</td>\n",
       "      <td>0.0</td>\n",
       "      <td>0.9</td>\n",
       "      <td>2.2</td>\n",
       "      <td>13.5</td>\n",
       "      <td>31.1</td>\n",
       "      <td>14</td>\n",
       "    </tr>\n",
       "    <tr>\n",
       "      <th>6</th>\n",
       "      <td>40</td>\n",
       "      <td>1</td>\n",
       "      <td>160</td>\n",
       "      <td>52</td>\n",
       "      <td>77</td>\n",
       "      <td>129</td>\n",
       "      <td>377</td>\n",
       "      <td>133</td>\n",
       "      <td>77</td>\n",
       "      <td>77</td>\n",
       "      <td>...</td>\n",
       "      <td>0.0</td>\n",
       "      <td>6.5</td>\n",
       "      <td>0.0</td>\n",
       "      <td>0.0</td>\n",
       "      <td>0.0</td>\n",
       "      <td>0.4</td>\n",
       "      <td>1.0</td>\n",
       "      <td>14.3</td>\n",
       "      <td>20.5</td>\n",
       "      <td>1</td>\n",
       "    </tr>\n",
       "    <tr>\n",
       "      <th>7</th>\n",
       "      <td>49</td>\n",
       "      <td>1</td>\n",
       "      <td>162</td>\n",
       "      <td>54</td>\n",
       "      <td>78</td>\n",
       "      <td>0</td>\n",
       "      <td>376</td>\n",
       "      <td>157</td>\n",
       "      <td>70</td>\n",
       "      <td>67</td>\n",
       "      <td>...</td>\n",
       "      <td>0.0</td>\n",
       "      <td>8.2</td>\n",
       "      <td>-1.9</td>\n",
       "      <td>0.0</td>\n",
       "      <td>0.0</td>\n",
       "      <td>0.1</td>\n",
       "      <td>0.5</td>\n",
       "      <td>15.8</td>\n",
       "      <td>19.8</td>\n",
       "      <td>1</td>\n",
       "    </tr>\n",
       "    <tr>\n",
       "      <th>8</th>\n",
       "      <td>44</td>\n",
       "      <td>0</td>\n",
       "      <td>168</td>\n",
       "      <td>56</td>\n",
       "      <td>84</td>\n",
       "      <td>118</td>\n",
       "      <td>354</td>\n",
       "      <td>160</td>\n",
       "      <td>63</td>\n",
       "      <td>61</td>\n",
       "      <td>...</td>\n",
       "      <td>0.0</td>\n",
       "      <td>7.0</td>\n",
       "      <td>-1.3</td>\n",
       "      <td>0.0</td>\n",
       "      <td>0.0</td>\n",
       "      <td>0.6</td>\n",
       "      <td>2.1</td>\n",
       "      <td>12.5</td>\n",
       "      <td>30.9</td>\n",
       "      <td>1</td>\n",
       "    </tr>\n",
       "    <tr>\n",
       "      <th>9</th>\n",
       "      <td>50</td>\n",
       "      <td>1</td>\n",
       "      <td>167</td>\n",
       "      <td>67</td>\n",
       "      <td>89</td>\n",
       "      <td>130</td>\n",
       "      <td>383</td>\n",
       "      <td>156</td>\n",
       "      <td>73</td>\n",
       "      <td>85</td>\n",
       "      <td>...</td>\n",
       "      <td>-0.6</td>\n",
       "      <td>10.8</td>\n",
       "      <td>-1.7</td>\n",
       "      <td>0.0</td>\n",
       "      <td>0.0</td>\n",
       "      <td>0.8</td>\n",
       "      <td>0.9</td>\n",
       "      <td>20.1</td>\n",
       "      <td>25.1</td>\n",
       "      <td>10</td>\n",
       "    </tr>\n",
       "  </tbody>\n",
       "</table>\n",
       "<p>10 rows × 280 columns</p>\n",
       "</div>"
      ],
      "text/plain": [
       "   0    1    2    3    4    5    6    7    8    9   ...   270   271  272  273  \\\n",
       "0   75    0  190   80   91  193  371  174  121  -16 ...   0.0   9.0 -0.9  0.0   \n",
       "1   56    1  165   64   81  174  401  149   39   25 ...   0.0   8.5  0.0  0.0   \n",
       "2   54    0  172   95  138  163  386  185  102   96 ...   0.0   9.5 -2.4  0.0   \n",
       "3   55    0  175   94  100  202  380  179  143   28 ...   0.0  12.2 -2.2  0.0   \n",
       "4   75    0  190   80   88  181  360  177  103  -16 ...   0.0  13.1 -3.6  0.0   \n",
       "5   13    0  169   51  100  167  321  174   91  107 ...  -0.6  12.2 -2.8  0.0   \n",
       "6   40    1  160   52   77  129  377  133   77   77 ...   0.0   6.5  0.0  0.0   \n",
       "7   49    1  162   54   78    0  376  157   70   67 ...   0.0   8.2 -1.9  0.0   \n",
       "8   44    0  168   56   84  118  354  160   63   61 ...   0.0   7.0 -1.3  0.0   \n",
       "9   50    1  167   67   89  130  383  156   73   85 ...  -0.6  10.8 -1.7  0.0   \n",
       "\n",
       "   274  275  276   277   278  279  \n",
       "0  0.0  0.9  2.9  23.3  49.4    8  \n",
       "1  0.0  0.2  2.1  20.4  38.8    6  \n",
       "2  0.0  0.3  3.4  12.3  49.0   10  \n",
       "3  0.0  0.4  2.6  34.6  61.6    1  \n",
       "4  0.0 -0.1  3.9  25.4  62.8    7  \n",
       "5  0.0  0.9  2.2  13.5  31.1   14  \n",
       "6  0.0  0.4  1.0  14.3  20.5    1  \n",
       "7  0.0  0.1  0.5  15.8  19.8    1  \n",
       "8  0.0  0.6  2.1  12.5  30.9    1  \n",
       "9  0.0  0.8  0.9  20.1  25.1   10  \n",
       "\n",
       "[10 rows x 280 columns]"
      ]
     },
     "execution_count": 13,
     "metadata": {},
     "output_type": "execute_result"
    }
   ],
   "source": [
    "patient_data.head(n=10)"
   ]
  },
  {
   "cell_type": "code",
   "execution_count": 14,
   "metadata": {},
   "outputs": [
    {
     "data": {
      "text/plain": [
       "(452, 280)"
      ]
     },
     "execution_count": 14,
     "metadata": {},
     "output_type": "execute_result"
    }
   ],
   "source": [
    "patient_data.shape"
   ]
  },
  {
   "cell_type": "markdown",
   "metadata": {},
   "source": [
    "# 5a\n",
    "There are 452 patients and 280 important features."
   ]
  },
  {
   "cell_type": "code",
   "execution_count": 15,
   "metadata": {},
   "outputs": [
    {
     "data": {
      "text/html": [
       "<div>\n",
       "<style>\n",
       "    .dataframe thead tr:only-child th {\n",
       "        text-align: right;\n",
       "    }\n",
       "\n",
       "    .dataframe thead th {\n",
       "        text-align: left;\n",
       "    }\n",
       "\n",
       "    .dataframe tbody tr th {\n",
       "        vertical-align: top;\n",
       "    }\n",
       "</style>\n",
       "<table border=\"1\" class=\"dataframe\">\n",
       "  <thead>\n",
       "    <tr style=\"text-align: right;\">\n",
       "      <th></th>\n",
       "      <th>0</th>\n",
       "      <th>1</th>\n",
       "      <th>2</th>\n",
       "      <th>3</th>\n",
       "    </tr>\n",
       "  </thead>\n",
       "  <tbody>\n",
       "    <tr>\n",
       "      <th>count</th>\n",
       "      <td>452.000000</td>\n",
       "      <td>452.000000</td>\n",
       "      <td>452.000000</td>\n",
       "      <td>452.000000</td>\n",
       "    </tr>\n",
       "    <tr>\n",
       "      <th>mean</th>\n",
       "      <td>46.471239</td>\n",
       "      <td>0.550885</td>\n",
       "      <td>166.188053</td>\n",
       "      <td>68.170354</td>\n",
       "    </tr>\n",
       "    <tr>\n",
       "      <th>std</th>\n",
       "      <td>16.466631</td>\n",
       "      <td>0.497955</td>\n",
       "      <td>37.170340</td>\n",
       "      <td>16.590803</td>\n",
       "    </tr>\n",
       "    <tr>\n",
       "      <th>min</th>\n",
       "      <td>0.000000</td>\n",
       "      <td>0.000000</td>\n",
       "      <td>105.000000</td>\n",
       "      <td>6.000000</td>\n",
       "    </tr>\n",
       "    <tr>\n",
       "      <th>25%</th>\n",
       "      <td>36.000000</td>\n",
       "      <td>0.000000</td>\n",
       "      <td>160.000000</td>\n",
       "      <td>59.000000</td>\n",
       "    </tr>\n",
       "    <tr>\n",
       "      <th>50%</th>\n",
       "      <td>47.000000</td>\n",
       "      <td>1.000000</td>\n",
       "      <td>164.000000</td>\n",
       "      <td>68.000000</td>\n",
       "    </tr>\n",
       "    <tr>\n",
       "      <th>75%</th>\n",
       "      <td>58.000000</td>\n",
       "      <td>1.000000</td>\n",
       "      <td>170.000000</td>\n",
       "      <td>79.000000</td>\n",
       "    </tr>\n",
       "    <tr>\n",
       "      <th>max</th>\n",
       "      <td>83.000000</td>\n",
       "      <td>1.000000</td>\n",
       "      <td>780.000000</td>\n",
       "      <td>176.000000</td>\n",
       "    </tr>\n",
       "  </tbody>\n",
       "</table>\n",
       "</div>"
      ],
      "text/plain": [
       "                0           1           2           3\n",
       "count  452.000000  452.000000  452.000000  452.000000\n",
       "mean    46.471239    0.550885  166.188053   68.170354\n",
       "std     16.466631    0.497955   37.170340   16.590803\n",
       "min      0.000000    0.000000  105.000000    6.000000\n",
       "25%     36.000000    0.000000  160.000000   59.000000\n",
       "50%     47.000000    1.000000  164.000000   68.000000\n",
       "75%     58.000000    1.000000  170.000000   79.000000\n",
       "max     83.000000    1.000000  780.000000  176.000000"
      ]
     },
     "execution_count": 15,
     "metadata": {},
     "output_type": "execute_result"
    }
   ],
   "source": [
    "patient_data.iloc[:, :4].describe()"
   ]
  },
  {
   "cell_type": "code",
   "execution_count": 16,
   "metadata": {},
   "outputs": [
    {
     "data": {
      "text/plain": [
       "320    105\n",
       "60     110\n",
       "424    119\n",
       "401    120\n",
       "379    120\n",
       "210    124\n",
       "403    127\n",
       "429    130\n",
       "297    130\n",
       "113    132\n",
       "198    133\n",
       "430    138\n",
       "432    140\n",
       "370    146\n",
       "408    148\n",
       "237    149\n",
       "68     150\n",
       "264    150\n",
       "406    150\n",
       "277    150\n",
       "96     150\n",
       "15     150\n",
       "143    150\n",
       "358    150\n",
       "82     150\n",
       "386    152\n",
       "22     153\n",
       "24     153\n",
       "159    153\n",
       "107    153\n",
       "      ... \n",
       "292    178\n",
       "434    178\n",
       "170    178\n",
       "258    178\n",
       "389    178\n",
       "365    178\n",
       "349    178\n",
       "221    178\n",
       "206    178\n",
       "182    179\n",
       "321    180\n",
       "310    180\n",
       "211    180\n",
       "192    180\n",
       "369    181\n",
       "71     182\n",
       "372    182\n",
       "109    184\n",
       "382    185\n",
       "127    185\n",
       "95     185\n",
       "126    186\n",
       "423    186\n",
       "346    186\n",
       "332    188\n",
       "4      190\n",
       "448    190\n",
       "0      190\n",
       "316    608\n",
       "141    780\n",
       "Name: 2, Length: 452, dtype: int64"
      ]
     },
     "metadata": {},
     "output_type": "display_data"
    }
   ],
   "source": [
    "display(patient_data.iloc[:, 2].sort_values())"
   ]
  },
  {
   "cell_type": "code",
   "execution_count": 17,
   "metadata": {},
   "outputs": [
    {
     "data": {
      "text/plain": [
       "141      6\n",
       "60      10\n",
       "316     10\n",
       "320     12\n",
       "126     18\n",
       "424     21\n",
       "403     22\n",
       "429     24\n",
       "401     25\n",
       "210     25\n",
       "379     28\n",
       "430     29\n",
       "297     30\n",
       "198     30\n",
       "113     33\n",
       "374     38\n",
       "102     40\n",
       "216     40\n",
       "419     42\n",
       "432     42\n",
       "353     43\n",
       "405     44\n",
       "195     45\n",
       "115     45\n",
       "264     45\n",
       "35      45\n",
       "386     46\n",
       "298     47\n",
       "167     47\n",
       "237     48\n",
       "      ... \n",
       "71      90\n",
       "200     90\n",
       "332     91\n",
       "425     93\n",
       "3       94\n",
       "322     94\n",
       "398     94\n",
       "356     94\n",
       "37      94\n",
       "423     95\n",
       "246     95\n",
       "2       95\n",
       "127     95\n",
       "263     95\n",
       "382     95\n",
       "283     95\n",
       "209     95\n",
       "109     96\n",
       "280     97\n",
       "321     97\n",
       "239     98\n",
       "73     100\n",
       "98     104\n",
       "90     104\n",
       "204    105\n",
       "95     105\n",
       "269    106\n",
       "308    110\n",
       "254    124\n",
       "213    176\n",
       "Name: 3, Length: 452, dtype: int64"
      ]
     },
     "metadata": {},
     "output_type": "display_data"
    }
   ],
   "source": [
    "display( patient_data.loc[:, 3].sort_values())"
   ]
  },
  {
   "cell_type": "markdown",
   "metadata": {},
   "source": [
    "# 5b\n",
    "\n",
    "The first column I believe is age because the max value is 83 and the min is 0 which can all be viewed as ages (zero being an infant). It also makes sense that the first column is age because, in many ways, it is best way of getting a general understanding of a patient.\n",
    "\n",
    "The second column is sex of the patient due to the values being binary.\n",
    "\n",
    "The third column I think is height in cm with it's range of 105 to 190 being reasonable heights for a person. There are two outliers though (patients 316 and 141) which I believe are noise.\n",
    "\n",
    "The fourth column I first thought was heart rate but it had to many patients with a low value. Instead I believe it is weight in kg."
   ]
  },
  {
   "cell_type": "markdown",
   "metadata": {},
   "source": [
    "# 5c\n",
    "\n",
    "The code sample below replaces the unknown values"
   ]
  },
  {
   "cell_type": "code",
   "execution_count": 18,
   "metadata": {
    "collapsed": true
   },
   "outputs": [],
   "source": [
    "# Remove the unknown values and replace with the feature average\n",
    "miss_val = '?' \n",
    "for col in patient_data:\n",
    "    col_array = patient_data[col].values\n",
    "    col_type = type(col_array[0])\n",
    "    if col_type == type(''):\n",
    "        array_sum = 0\n",
    "        num_values = 0\n",
    "        val_array = col_array[col_array != miss_val]\n",
    "        val_type = type(eval(val_array[0]))\n",
    "        for val in val_array:\n",
    "            array_sum += eval(val)\n",
    "        col_mean = array_sum / len(val_array)\n",
    "        final_type = np.float64\n",
    "        if val_type == type(1):\n",
    "            col_mean = int(np.ceil(col_mean))\n",
    "            final_type = np.int64\n",
    "        else:\n",
    "            col_mean = np.around(col_mean, decimal=2)\n",
    "        col_array[col_array == miss_val] = str(col_mean)\n",
    "        col_array = col_array.astype(final_type)\n",
    "        patient_data[col] = col_array"
   ]
  },
  {
   "cell_type": "code",
   "execution_count": 19,
   "metadata": {},
   "outputs": [
    {
     "name": "stdout",
     "output_type": "stream",
     "text": [
      "{1, 2, 3, 4, 5, 6, 7, 8, 9, 10, 14, 15, 16}\n"
     ]
    }
   ],
   "source": [
    "print(set(patient_data.iloc[:, 279].values))"
   ]
  },
  {
   "cell_type": "markdown",
   "metadata": {},
   "source": [
    "# 5d\n",
    "\n",
    "To see which feature has the most influence on the patient condition, one could make a 2d scatter plot with the sorted feature values on the x axis and condition on the y axis. Then one could see whether different ranges of the feature are good at predicting a specific condition. Due to the large number of features, looking at all the scatter plots would be time consuming. \n",
    "\n",
    "Another method one could try to get predictive power is get all the pairs of a feature and the condition it's supposed to predict. Count all the times a particular value of a feature is matched up with multiple conditions. The lower this number is the better the predictive power.\n",
    "\n",
    "Using machine learning models, one could split the data into a training and test set. Then one would fit a model with the training data using a single feature. After that, one would use the model to predict the test set. The feature with the highest accuracy would have the most predictive power.\n",
    "\n",
    "Another thing one could do is see which feature has a strong with the most amount of other features. That way knowing that feature could give a good approximation of other features.\n",
    "\n",
    "Finally the easiest method would use the sklearn feature selection library to score and pick different features."
   ]
  },
  {
   "cell_type": "code",
   "execution_count": 20,
   "metadata": {},
   "outputs": [
    {
     "data": {
      "text/html": [
       "<div>\n",
       "<style>\n",
       "    .dataframe thead tr:only-child th {\n",
       "        text-align: right;\n",
       "    }\n",
       "\n",
       "    .dataframe thead th {\n",
       "        text-align: left;\n",
       "    }\n",
       "\n",
       "    .dataframe tbody tr th {\n",
       "        vertical-align: top;\n",
       "    }\n",
       "</style>\n",
       "<table border=\"1\" class=\"dataframe\">\n",
       "  <thead>\n",
       "    <tr style=\"text-align: right;\">\n",
       "      <th></th>\n",
       "      <th>0</th>\n",
       "      <th>1</th>\n",
       "      <th>2</th>\n",
       "      <th>3</th>\n",
       "      <th>4</th>\n",
       "      <th>5</th>\n",
       "      <th>6</th>\n",
       "      <th>7</th>\n",
       "      <th>8</th>\n",
       "      <th>9</th>\n",
       "      <th>...</th>\n",
       "      <th>270</th>\n",
       "      <th>271</th>\n",
       "      <th>272</th>\n",
       "      <th>273</th>\n",
       "      <th>274</th>\n",
       "      <th>275</th>\n",
       "      <th>276</th>\n",
       "      <th>277</th>\n",
       "      <th>278</th>\n",
       "      <th>279</th>\n",
       "    </tr>\n",
       "  </thead>\n",
       "  <tbody>\n",
       "    <tr>\n",
       "      <th>0</th>\n",
       "      <td>75</td>\n",
       "      <td>0</td>\n",
       "      <td>190</td>\n",
       "      <td>80</td>\n",
       "      <td>91</td>\n",
       "      <td>193</td>\n",
       "      <td>371</td>\n",
       "      <td>174</td>\n",
       "      <td>121</td>\n",
       "      <td>-16</td>\n",
       "      <td>...</td>\n",
       "      <td>0.0</td>\n",
       "      <td>9.0</td>\n",
       "      <td>-0.9</td>\n",
       "      <td>0.0</td>\n",
       "      <td>0.0</td>\n",
       "      <td>0.9</td>\n",
       "      <td>2.9</td>\n",
       "      <td>23.3</td>\n",
       "      <td>49.4</td>\n",
       "      <td>8</td>\n",
       "    </tr>\n",
       "    <tr>\n",
       "      <th>1</th>\n",
       "      <td>56</td>\n",
       "      <td>1</td>\n",
       "      <td>165</td>\n",
       "      <td>64</td>\n",
       "      <td>81</td>\n",
       "      <td>174</td>\n",
       "      <td>401</td>\n",
       "      <td>149</td>\n",
       "      <td>39</td>\n",
       "      <td>25</td>\n",
       "      <td>...</td>\n",
       "      <td>0.0</td>\n",
       "      <td>8.5</td>\n",
       "      <td>0.0</td>\n",
       "      <td>0.0</td>\n",
       "      <td>0.0</td>\n",
       "      <td>0.2</td>\n",
       "      <td>2.1</td>\n",
       "      <td>20.4</td>\n",
       "      <td>38.8</td>\n",
       "      <td>6</td>\n",
       "    </tr>\n",
       "    <tr>\n",
       "      <th>2</th>\n",
       "      <td>54</td>\n",
       "      <td>0</td>\n",
       "      <td>172</td>\n",
       "      <td>95</td>\n",
       "      <td>138</td>\n",
       "      <td>163</td>\n",
       "      <td>386</td>\n",
       "      <td>185</td>\n",
       "      <td>102</td>\n",
       "      <td>96</td>\n",
       "      <td>...</td>\n",
       "      <td>0.0</td>\n",
       "      <td>9.5</td>\n",
       "      <td>-2.4</td>\n",
       "      <td>0.0</td>\n",
       "      <td>0.0</td>\n",
       "      <td>0.3</td>\n",
       "      <td>3.4</td>\n",
       "      <td>12.3</td>\n",
       "      <td>49.0</td>\n",
       "      <td>10</td>\n",
       "    </tr>\n",
       "    <tr>\n",
       "      <th>3</th>\n",
       "      <td>55</td>\n",
       "      <td>0</td>\n",
       "      <td>175</td>\n",
       "      <td>94</td>\n",
       "      <td>100</td>\n",
       "      <td>202</td>\n",
       "      <td>380</td>\n",
       "      <td>179</td>\n",
       "      <td>143</td>\n",
       "      <td>28</td>\n",
       "      <td>...</td>\n",
       "      <td>0.0</td>\n",
       "      <td>12.2</td>\n",
       "      <td>-2.2</td>\n",
       "      <td>0.0</td>\n",
       "      <td>0.0</td>\n",
       "      <td>0.4</td>\n",
       "      <td>2.6</td>\n",
       "      <td>34.6</td>\n",
       "      <td>61.6</td>\n",
       "      <td>1</td>\n",
       "    </tr>\n",
       "    <tr>\n",
       "      <th>4</th>\n",
       "      <td>75</td>\n",
       "      <td>0</td>\n",
       "      <td>190</td>\n",
       "      <td>80</td>\n",
       "      <td>88</td>\n",
       "      <td>181</td>\n",
       "      <td>360</td>\n",
       "      <td>177</td>\n",
       "      <td>103</td>\n",
       "      <td>-16</td>\n",
       "      <td>...</td>\n",
       "      <td>0.0</td>\n",
       "      <td>13.1</td>\n",
       "      <td>-3.6</td>\n",
       "      <td>0.0</td>\n",
       "      <td>0.0</td>\n",
       "      <td>-0.1</td>\n",
       "      <td>3.9</td>\n",
       "      <td>25.4</td>\n",
       "      <td>62.8</td>\n",
       "      <td>7</td>\n",
       "    </tr>\n",
       "  </tbody>\n",
       "</table>\n",
       "<p>5 rows × 280 columns</p>\n",
       "</div>"
      ],
      "text/plain": [
       "   0    1    2    3    4    5    6    7    8    9   ...   270   271  272  273  \\\n",
       "0   75    0  190   80   91  193  371  174  121  -16 ...   0.0   9.0 -0.9  0.0   \n",
       "1   56    1  165   64   81  174  401  149   39   25 ...   0.0   8.5  0.0  0.0   \n",
       "2   54    0  172   95  138  163  386  185  102   96 ...   0.0   9.5 -2.4  0.0   \n",
       "3   55    0  175   94  100  202  380  179  143   28 ...   0.0  12.2 -2.2  0.0   \n",
       "4   75    0  190   80   88  181  360  177  103  -16 ...   0.0  13.1 -3.6  0.0   \n",
       "\n",
       "   274  275  276   277   278  279  \n",
       "0  0.0  0.9  2.9  23.3  49.4    8  \n",
       "1  0.0  0.2  2.1  20.4  38.8    6  \n",
       "2  0.0  0.3  3.4  12.3  49.0   10  \n",
       "3  0.0  0.4  2.6  34.6  61.6    1  \n",
       "4  0.0 -0.1  3.9  25.4  62.8    7  \n",
       "\n",
       "[5 rows x 280 columns]"
      ]
     },
     "execution_count": 20,
     "metadata": {},
     "output_type": "execute_result"
    }
   ],
   "source": [
    "patient_data.head()"
   ]
  },
  {
   "cell_type": "code",
   "execution_count": 21,
   "metadata": {
    "collapsed": true
   },
   "outputs": [],
   "source": [
    "from sklearn.linear_model import LogisticRegression\n",
    "from sklearn.feature_selection import RFE"
   ]
  },
  {
   "cell_type": "code",
   "execution_count": 22,
   "metadata": {},
   "outputs": [
    {
     "name": "stdout",
     "output_type": "stream",
     "text": [
      "[149   1 184 183  92 192 165 195 169 200 219 198 153 208  53  87 105 178\n",
      " 100 272 116 227 180 229  44 259 252  84 137 128  47 206 130 221  13 182\n",
      " 235 237 120 161 189 156  80 139 158 250 177 212  23  40 113  97 117  98\n",
      "  96 155 129 168 248 225 106 217 181 108 162 132  99 274 119 271 176 216\n",
      " 249 147 240 188 123 121  79  95  83 241  30 261 154 223 257 125  89 118\n",
      " 112 152 170 253 135 231 201  50 187  70  91  75 104 226 114 218 136  94\n",
      "  71 234 211  48  77 103 144 244 172 204 256 115  49 215  93 131  59 107\n",
      "  88 133 199 260 194 275 269 222 236  74  61 174 141 277  62 268 251 267\n",
      " 233 266 243  73  52 134 171 273  78 179 242 175 265 276 159  69   3  25\n",
      "  34 209 270   6   5  85  86   9   8 122 193 205 238  22  31  54 146  68\n",
      "  27  39  46 228 246  26  18 109  56  17  19  21  20 210 254   1 138 124\n",
      " 111 214 173  29  36 224 263 202 164  63 110 148  35  38 160 185 232  45\n",
      " 191  72  55   2  64   1  65  12 220  37  32  66 127 151  58  42  67   4\n",
      " 255  11 140  76 126  16  15 150  57 230 258  82  41  81 142  33 203  90\n",
      " 143 190 245  14 163 145 186   7 166 197 167 239 262 207  24  60 101  10\n",
      " 213  28 157 247 264 196  43  51 102]\n"
     ]
    }
   ],
   "source": [
    "labels = patient_data[279].values\n",
    "features = patient_data.drop(279, axis=1).values\n",
    "model = LogisticRegression()\n",
    "rfe = RFE(model, 3)\n",
    "fit = rfe.fit(features, labels)\n",
    "print(fit.ranking_)"
   ]
  },
  {
   "cell_type": "code",
   "execution_count": 23,
   "metadata": {},
   "outputs": [
    {
     "name": "stdout",
     "output_type": "stream",
     "text": [
      "(array([  1, 195, 221], dtype=int64),)\n"
     ]
    }
   ],
   "source": [
    "fit_rank = fit.ranking_\n",
    "idx = np.where(fit_rank==1)\n",
    "print(idx)"
   ]
  },
  {
   "cell_type": "markdown",
   "metadata": {},
   "source": [
    "# 5e\n",
    "\n",
    "Using recursive feature elimination from the feature selection module of sklearn, the 3 features with the most predictive power correspond to columns 1, 195, and 221. To do this I followed the instructions at this link https://machinelearningmastery.com/feature-selection-in-python-with-scikit-learn/."
   ]
  },
  {
   "cell_type": "code",
   "execution_count": null,
   "metadata": {
    "collapsed": true
   },
   "outputs": [],
   "source": []
  }
 ],
 "metadata": {
  "kernelspec": {
   "display_name": "Python 3",
   "language": "python",
   "name": "python3"
  },
  "language_info": {
   "codemirror_mode": {
    "name": "ipython",
    "version": 3
   },
   "file_extension": ".py",
   "mimetype": "text/x-python",
   "name": "python",
   "nbconvert_exporter": "python",
   "pygments_lexer": "ipython3",
   "version": "3.6.2"
  }
 },
 "nbformat": 4,
 "nbformat_minor": 2
}
