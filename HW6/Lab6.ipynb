{
 "cells": [
  {
   "cell_type": "markdown",
   "metadata": {},
   "source": [
    "# <p style=\"text-align:center\">EE 379K: Lab Six</p>\n",
    "# <p style=\"text-align:center\">Kyle Grier and Stefan Bordovsky</p>\n",
    "#### <p style=\"text-align:center\">Due: Monday, 10/16 3:00pm</p>"
   ]
  },
  {
   "cell_type": "markdown",
   "metadata": {},
   "source": [
    "<p>\n",
    "    <b>Problem 1.</b> In this problem we will use synthetic data sets to explore the bias-variance tradeoff\n",
    "    incurred by using regularization.\n",
    "</p>\n",
    "<p>\n",
    "    <ul>\n",
    "        <li>Generate data of the form:</li>\n",
    "    </ul>\n",
    "    <br>\n",
    "    <div style=\"text-align:center\">$y = X\\beta + \\epsilon,$</div>\n",
    "</p>\n",
    "<p style=\"padding-left:20px\">\n",
    "    <br>\n",
    "    where $X$ is an $n \\times p$ matrix where $n$ = 51, $p$ = 50, and each $X_{ij}$ ~ $N(0, 1)$. Also, generate\n",
    "    the noise according to $\\epsilon_i$ ~ $N(0, 1/4)$. Let $\\beta$ be the all ones vector (for simplicity).\n",
    "    <br>\n",
    "    By repeatedly doing this experiment and generating fresh data (fresh $X$, and $y$, and hence $\\epsilon$)\n",
    "    but keeping $\\beta$ fixed, you will estimate many different solutions, $\\hat{\\beta}$. Estimate the mean and\n",
    "    variance of $\\hat{\\beta}$. Note that $\\hat{\\beta}$ is a vector, so for this exercise simply estimate the variance of a\n",
    "    single component.\n",
    "</p>"
   ]
  },
  {
   "cell_type": "code",
   "execution_count": 51,
   "metadata": {
    "collapsed": false
   },
   "outputs": [
    {
     "name": "stdout",
     "output_type": "stream",
     "text": [
      "Beta hat mean = 1.0\n",
      "Beta hat var = 4.37938929524e-27\n"
     ]
    }
   ],
   "source": [
    "import numpy as np\n",
    "import matplotlib.pyplot as plt\n",
    "from patsy import dmatrices\n",
    "import pandas as pd\n",
    "import random as rand\n",
    "\n",
    "%matplotlib inline\n",
    "\n",
    "n = 51\n",
    "p = 50\n",
    "beta_hats = []\n",
    "std_dev = 1\n",
    "num_regressions = 200\n",
    "\n",
    "for i in range(num_regressions):\n",
    "    X = np.zeros((n, p))\n",
    "    X = np.random.normal(X, std_dev)\n",
    "    e_std_dev = 1/4\n",
    "    e = np.zeros(n)\n",
    "    e = np.random.normal(e, e_std_dev)\n",
    "    beta = np.ones(p)\n",
    "    y = np.matmul(X, beta) + e\n",
    "    reg = linear_model.LinearRegression()\n",
    "    reg.fit(X, y)\n",
    "    beta_coefficients = reg.coef_\n",
    "    # Append first element of linear regression solution vector to beta_hats vector.\n",
    "    beta_hats.append(beta_coefficients[0])\n",
    "    \n",
    "beta_hat_mean = np.mean(beta_hats)\n",
    "beta_hat_var = np.var(beta_hats)\n",
    "\n",
    "print(\"Beta hat mean = \" + str(beta_hat_mean))\n",
    "print(\"Beta hat var = \" + str(beta_hat_var))\n",
    "\n"
   ]
  },
  {
   "cell_type": "markdown",
   "metadata": {},
   "source": [
    "<p>\n",
    "    <ul>\n",
    "        <li>Use ridge regression, i.e. $\\ell_2$ regularization. Vary the regularization coefficient $\\lambda$ = 0.01, 0.1, 1, 10, \n",
    "            100 and repeat the above experiment. What do you observe? As you increase $\\lambda$ is the model becoming more \n",
    "            simple or more complex? As you increase $\\lambda$ is performance becoming better\n",
    "            or worse?\n",
    "        </li>\n",
    "    </ul>\n",
    "</p>"
   ]
  },
  {
   "cell_type": "code",
   "execution_count": 38,
   "metadata": {
    "collapsed": false
   },
   "outputs": [
    {
     "name": "stdout",
     "output_type": "stream",
     "text": [
      "Lambda value: 0.01\n",
      "Ridge Regression Coefficient Mean: 0.984356463488\n",
      "Ridge Regression Coefficient Variance: 0.0124958145485\n",
      "Lambda value: 0.1\n",
      "Ridge Regression Coefficient Mean: 0.957524444325\n",
      "Ridge Regression Coefficient Variance: 0.0229356427258\n",
      "Lambda value: 1.0\n",
      "Ridge Regression Coefficient Mean: 0.876332395005\n",
      "Ridge Regression Coefficient Variance: 0.0613470713789\n",
      "Lambda value: 10.0\n",
      "Ridge Regression Coefficient Mean: 0.620495113976\n",
      "Ridge Regression Coefficient Variance: 0.100722844291\n",
      "Lambda value: 100.0\n",
      "Ridge Regression Coefficient Mean: 0.255006298671\n",
      "Ridge Regression Coefficient Variance: 0.0483418694563\n"
     ]
    }
   ],
   "source": [
    "from sklearn.linear_model import Ridge\n",
    "lambdas = np.array([0.01, 0.1, 1, 10, 100])\n",
    "\n",
    "# For each value of lambda, run ridge regression on randomly generated data described in part 1 of question 1.\n",
    "for i in range(len(lambdas)):\n",
    "    l2_reg_first_coef = []\n",
    "    # Run ridge regression \n",
    "    for j in range(num_regressions):\n",
    "        X = np.zeros((n, p))\n",
    "        X = np.random.normal(X, std_dev)\n",
    "        e_std_dev = 1/4\n",
    "        e = np.zeros(n)\n",
    "        e = np.random.normal(e, e_std_dev)\n",
    "        beta = np.ones(p)\n",
    "        y = np.matmul(X, beta) + e\n",
    "        l2_reg = Ridge(alpha=lambdas[i])\n",
    "        l2_reg.fit(X, y)\n",
    "        l2_coefficients = l2_reg.coef_\n",
    "        l2_reg_first_coef.append(l2_coefficients[0])\n",
    "    l2_reg_coef_mean = np.mean(l2_reg_first_coef)\n",
    "    l2_reg_coef_var = np.var(l2_reg_first_coef)\n",
    "    \n",
    "    print(\"Lambda value: \" + str(lambdas[i]))\n",
    "    print(\"Ridge Regression Coefficient Mean: \" + str(l2_reg_coef_mean))\n",
    "    print(\"Ridge Regression Coefficient Variance: \" + str(l2_reg_coef_var))\n",
    "        \n",
    "        \n",
    "    "
   ]
  },
  {
   "cell_type": "markdown",
   "metadata": {},
   "source": [
    "<p style=\"padding-left:60px\">\n",
    "     Increasing the value of $\\lambda$ ends up decreasing the ridge regression mean for the coefficients of $X$ and generally increasing the variance for the coefficients of $X$. As $\\lambda$ increases, the model is becoming more complex, which causes the decrease in variance but an increase in bias. For predicting coefficient mean, then, increasing $\\lambda$ decreases performance. In the context of coefficient variance, increasing $\\lambda$ increases performance.\n",
    "</p>"
   ]
  },
  {
   "cell_type": "markdown",
   "metadata": {},
   "source": [
    "<p>\n",
    "    <b>Problem 2.</b> Problem 9 from Chapter 6.\n",
    "    <br>\n",
    "    (Predicting the number of applications in College) Note that you will have to read about PCR\n",
    "    <br>\n",
    "    (Principal Components Regression) and PLS (Partial Least Squares ) in the book, since we did not\n",
    "    <br>\n",
    "    discuss these in class.\n",
    "</p>"
   ]
  },
  {
   "cell_type": "markdown",
   "metadata": {},
   "source": [
    "<p style=\"padding-left:60px\">\n",
    "    9. In this exercise, we will predict the number of applications received using the other variables in the College data set.\n",
    "    <div style=\"padding-left:80px\">\n",
    "        (a) Split the data set into a training set and a test set.\n",
    "    </div>\n",
    "</p>"
   ]
  },
  {
   "cell_type": "code",
   "execution_count": 130,
   "metadata": {
    "collapsed": false
   },
   "outputs": [],
   "source": [
    "# Referencing Chapter 6 Python lab exercises from Canvas.\n",
    "\n",
    "from sklearn import linear_model\n",
    "from sklearn import metrics as mt\n",
    "from sklearn.linear_model import LinearRegression, Ridge, RidgeCV, Lasso, LassoCV\n",
    "from sklearn.decomposition import PCA\n",
    "from sklearn.cross_decomposition import PLSRegression\n",
    "from sklearn import cross_validation\n",
    "import warnings\n",
    "warnings.filterwarnings('ignore')\n",
    "\n",
    "college_data = pd.read_csv('./College.csv')\n",
    "college_data['IsPrivate'] = college_data['Private'].map({'Yes': 1, 'No': 0})\n",
    "college_data.rename(columns={'F.Undergrad': 'FUndergrad', 'P.Undergrad': 'PUndergrad', 'Room.Board' : 'RoomBoard', 'S.F.Ratio' : 'SFRatio', 'perc.alumni' : 'PercAlumni' , 'Grad.Rate' : 'GradRate'}, inplace=True)\n",
    "y2, X2 = dmatrices('Apps ~ IsPrivate + Accept + Enroll + Top10perc + Top25perc + FUndergrad + PUndergrad + Outstate + RoomBoard + Books + Personal + PhD + Terminal + SFRatio + PercAlumni + Expend + GradRate',\n",
    "                  college_data, return_type=\"dataframe\")\n",
    "\n",
    "# Flatten y2 into a 1-D array by removing indices and leaving defaulted values.\n",
    "y2 = np.ravel(y2)\n",
    "\n",
    "college_data.head()\n",
    "X2_training, X2_validation, y2_training, y2_validation = train_test_split(X2, y2, test_size=0.30, random_state=rand.randint(0, 10000))"
   ]
  },
  {
   "cell_type": "markdown",
   "metadata": {},
   "source": [
    "<p style=\"padding-left:80px\">\n",
    "    (b) Fit a linear model using least squares on the training set, and report the test error obtained.\n",
    "</p>"
   ]
  },
  {
   "cell_type": "code",
   "execution_count": 156,
   "metadata": {
    "collapsed": false
   },
   "outputs": [
    {
     "name": "stdout",
     "output_type": "stream",
     "text": [
      "Test error for linear least squares regression model: 1423613.15661\n"
     ]
    }
   ],
   "source": [
    "linear_model = LinearRegression()\n",
    "linear_model.fit(X2_training, y2_training)\n",
    "\n",
    "lsr_pred = linear_model.predict(X2_validation)\n",
    "lsr_mse = mt.mean_squared_error(lsr_pred, y2_validation)\n",
    "print(\"Test error for linear least squares regression model: \" + str(lsr_mse))"
   ]
  },
  {
   "cell_type": "markdown",
   "metadata": {},
   "source": [
    "<p style=\"padding-left:80px\">\n",
    "    (c) Fit a ridge regression model on the training set, with $\\lambda$ chosen by cross-validation. Report the test error obtained.\n",
    "</p>"
   ]
  },
  {
   "cell_type": "code",
   "execution_count": 157,
   "metadata": {
    "collapsed": false
   },
   "outputs": [
    {
     "name": "stdout",
     "output_type": "stream",
     "text": [
      "Test error for ridge regression model with cross-validation: 1422654.89807\n"
     ]
    }
   ],
   "source": [
    "# Generate an array of alphas from which to choose using cross-validation.\n",
    "alphas = 10**np.linspace(10,-2,100)*0.5\n",
    "\n",
    "# Fit ridge regression model on training sets using cross validation to select lambda.\n",
    "ridge_cv_model = RidgeCV(alphas=alphas, scoring='neg_mean_squared_error')\n",
    "ridge_cv_model.fit(X2_training, y2_training)\n",
    "\n",
    "ridge_model = Ridge(alpha=ridge_cv_model.alpha_)\n",
    "ridge_model.fit(X2_training, y2_training)\n",
    "rr_pred = ridge_model.predict(X2_validation)\n",
    "rr_mse = mt.mean_squared_error(y2_validation, rr_pred)\n",
    "print(\"Test error for ridge regression model with cross-validation: \" + str(rr_mse))"
   ]
  },
  {
   "cell_type": "markdown",
   "metadata": {},
   "source": [
    "<p style=\"padding-left:80px\">\n",
    "    (d) Fit a lasso model on the training set, with $\\lambda$ chosen by cross-validation. Report the test error obtained, along with the number of non-zero coefficient estimates.\n",
    "</p>"
   ]
  },
  {
   "cell_type": "code",
   "execution_count": 158,
   "metadata": {
    "collapsed": false
   },
   "outputs": [
    {
     "name": "stdout",
     "output_type": "stream",
     "text": [
      "Test error for Lasso: 1527730.31741\n",
      "\n",
      "Number of non-zero coefficient estimates from the Lasso CV model = 2. See table below.\n",
      "Coefficient estimates from Lasso CV model: \n"
     ]
    },
    {
     "data": {
      "text/plain": [
       "Intercept     0.000000\n",
       "IsPrivate    -0.000000\n",
       "Accept        1.288348\n",
       "Enroll        0.000000\n",
       "Top10perc     0.000000\n",
       "Top25perc     0.000000\n",
       "FUndergrad    0.054518\n",
       "PUndergrad   -0.000000\n",
       "Outstate     -0.035090\n",
       "RoomBoard     0.097723\n",
       "Books         0.000000\n",
       "Personal     -0.000000\n",
       "PhD           0.000000\n",
       "Terminal     -0.000000\n",
       "SFRatio       0.000000\n",
       "PercAlumni   -0.000000\n",
       "Expend        0.140009\n",
       "GradRate      0.000000\n",
       "dtype: float64"
      ]
     },
     "execution_count": 158,
     "metadata": {},
     "output_type": "execute_result"
    }
   ],
   "source": [
    "num_cross_validation_folds = 10\n",
    "\n",
    "lasso_cv_model = LassoCV(alphas=None, cv=num_cross_validation_folds, max_iter=10000)\n",
    "lasso_cv_model.fit(X2_training, y2_training)\n",
    "\n",
    "lasso_model = Lasso(max_iter=10000)\n",
    "lasso_model.set_params(alpha=lasso_cv_model.alpha_)\n",
    "lasso_model.fit(X2_training, y2_training)\n",
    "lasso_pred = lasso_model.predict(X2_validation)\n",
    "lasso_mse = mt.mean_squared_error(y2_validation, lasso_model.predict(X2_validation))\n",
    "\n",
    "# Some of the coefficients are now reduced to exactly zero.\n",
    "print(\"Test error for Lasso: \" + str(lasso_mse))\n",
    "print\n",
    "print(\"Number of non-zero coefficient estimates from the Lasso CV model = 2. See table below.\")\n",
    "print(\"Coefficient estimates from Lasso CV model: \")\n",
    "pd.Series(lasso_model.coef_, index=X2.columns)"
   ]
  },
  {
   "cell_type": "markdown",
   "metadata": {},
   "source": [
    "<p style=\"padding-left:80px\">\n",
    "    (e) Fit a PCR model on the training set, with $M$ chosen by cross-validation. Report the test error obtained, along with the value of $M$ selected by cross-validation.\n",
    "</p>"
   ]
  },
  {
   "cell_type": "code",
   "execution_count": 159,
   "metadata": {
    "collapsed": false
   },
   "outputs": [
    {
     "data": {
      "image/png": "[encoded data removed]",
      "text/plain": [
       "<matplotlib.figure.Figure at 0x7f06bb0e4bd0>"
      ]
     },
     "metadata": {},
     "output_type": "display_data"
    },
    {
     "name": "stdout",
     "output_type": "stream",
     "text": [
      "As shown in the above plot, using all 18 principal components yields the smallest MSE.\n",
      "Test error for PCR model: 9680699.8753\n",
      "M = 18\n"
     ]
    }
   ],
   "source": [
    "# Transform X2 into matrix with reduced dimensionality\n",
    "pca_model = PCA()\n",
    "X_reduced = pca_model.fit_transform(X2_training)\n",
    "\n",
    "# 10-fold CV, with shuffle\n",
    "n = len(X_reduced)\n",
    "kf_10 = cross_validation.KFold(n, n_folds=10, shuffle=True, random_state=1)\n",
    "\n",
    "regr = LinearRegression()\n",
    "mse = []\n",
    "\n",
    "# Calculate MSE with only the intercept (no principal components in regression)\n",
    "score = -1*cross_validation.cross_val_score(regr, np.ones((n,1)), y2_training.ravel(), cv=kf_10, scoring='mean_squared_error').mean()    \n",
    "mse.append(score)\n",
    "\n",
    "# Calculate MSE using CV for the 18 principle components, adding one component at the time.\n",
    "for i in np.arange(1, 19):\n",
    "    score = -1*cross_validation.cross_val_score(regr, X_reduced[:,:i], y2_training.ravel(), cv=kf_10, scoring='mean_squared_error').mean()\n",
    "    mse.append(score)\n",
    "\n",
    "plt.plot(mse, '-v')\n",
    "plt.xlabel('Number of principal components in regression')\n",
    "plt.ylabel('MSE')\n",
    "plt.title('PCA MSEs for College Dataset')\n",
    "plt.xlim(xmin=-1);\n",
    "plt.show()\n",
    "\n",
    "print(\"As shown in the above plot, using all 18 principal components yields the smallest MSE.\")\n",
    "\n",
    "regr_test = LinearRegression()\n",
    "regr_test.fit(X_reduced, y2_training)\n",
    "\n",
    "pca_model_2 = PCA()\n",
    "X2_validation_reduced = pca_model_2.fit_transform(X2_validation)[:,:18]\n",
    "pcr_pred = regr_test.predict(X2_validation_reduced)\n",
    "pcr_mse = mt.mean_squared_error(pcr_pred, y2_validation)\n",
    "print(\"Test error for PCR model: \" + str(pcr_mse))\n",
    "min_index = mse.index(min(mse))\n",
    "print(\"M = \" + str(min_index + 1))"
   ]
  },
  {
   "cell_type": "markdown",
   "metadata": {},
   "source": [
    "<p style=\"padding-left:80px\">\n",
    "    (f) Fit a PLS model on the training set, with $M$ chosen by cross-validation. Report the test error obtained, along with the value of $M$ selected by cross-validation.\n",
    "</p>"
   ]
  },
  {
   "cell_type": "code",
   "execution_count": 175,
   "metadata": {
    "collapsed": false
   },
   "outputs": [
    {
     "name": "stdout",
     "output_type": "stream",
     "text": [
      "Lowest MSE found for the following number of principal components: 11\n",
      "Test error for PCR model: 1475628.9939\n",
      "M = 11\n"
     ]
    },
    {
     "data": {
      "image/png": "[encoded data removed]",
      "text/plain": [
       "<matplotlib.figure.Figure at 0x7f06bb138950>"
      ]
     },
     "metadata": {},
     "output_type": "display_data"
    }
   ],
   "source": [
    "n = len(X2_validation)\n",
    "\n",
    "# 10-fold cross-validation with shuffle.\n",
    "kf_10 = cross_validation.KFold(n, n_folds=10, shuffle=True, random_state=1)\n",
    "\n",
    "mse = []\n",
    "\n",
    "for i in np.arange(1, 19):\n",
    "    pls_model = PLSRegression(n_components=i)\n",
    "    score = cross_validation.cross_val_score(pls_model, X2_training, y2_training, cv=kf_10, scoring='mean_squared_error').mean()\n",
    "    mse.append(-score)\n",
    "\n",
    "plt.plot(np.arange(1, 19), np.array(mse), '-v')\n",
    "plt.xlabel('Number of principal components in regression')\n",
    "plt.ylabel('MSE')\n",
    "plt.title('PLS MSEs for College Dataset')\n",
    "plt.xlim(xmin=-1)\n",
    "\n",
    "min_index = mse.index(min(mse))\n",
    "print(\"Lowest MSE found for the following number of principal components: \" + str(min_index + 1))\n",
    "\n",
    "pls_model = PLSRegression(n_components=min_index)\n",
    "pls_model.fit(X2_training, y2_training)\n",
    "\n",
    "pls_pred = pls_model.predict(X2_validation)\n",
    "pls_mse = mt.mean_squared_error(y2_validation, pls_pred)\n",
    "\n",
    "print(\"Test error for PCR model: \" + str(pls_mse))\n",
    "print(\"M = \" + str(min_index + 1))"
   ]
  },
  {
   "cell_type": "markdown",
   "metadata": {},
   "source": [
    "<p style=\"padding-left:80px\">\n",
    "    (g) Comment on the results obtained. How accurately can we predict the number of college applications received? Is there much difference among the test errors resulting from these five approaches?\n",
    "    <div style=\"padding-left:100px\">\n",
    "        \n",
    "    </div>\n",
    "</p>"
   ]
  },
  {
   "cell_type": "code",
   "execution_count": 163,
   "metadata": {
    "collapsed": false
   },
   "outputs": [
    {
     "name": "stdout",
     "output_type": "stream",
     "text": [
      "Least squares regression MSE: 1423613.15661\n",
      "Ridge regression MSE: 1422654.89807\n",
      "Lasso MSE: 1527730.31741\n",
      "PCR MSE: 9680699.8753\n",
      "PLS MSE: 1475628.9939\n"
     ]
    }
   ],
   "source": [
    "print(\"Least squares regression MSE: \" + str(lsr_mse))\n",
    "print(\"Ridge regression MSE: \" + str(rr_mse))\n",
    "print(\"Lasso MSE: \" + str(lasso_mse))\n",
    "print(\"PCR MSE: \" + str(pcr_mse))\n",
    "print(\"PLS MSE: \" + str(pls_mse))"
   ]
  },
  {
   "cell_type": "markdown",
   "metadata": {},
   "source": [
    "<p style=\"padding-left:100px\">\n",
    "    As seen above, least squares regression and ridge regression models have roughly the same mean squared error when used to predict the number of college applications received, followed by PLS and Lasso models. The least successful model for predicting the number of college apps received is Principal Component Regression, which had the highest MSE by far.\n",
    "    <br>\n",
    "    <br>\n",
    "    Since $R^2$ values describe the goodness of fit of statistical models, we will calculate them for each model's predictions and evaluate them to determine the accuracy of each model's prediction of the number of college apps received. \n",
    "</p>"
   ]
  },
  {
   "cell_type": "code",
   "execution_count": 188,
   "metadata": {
    "collapsed": false
   },
   "outputs": [
    {
     "name": "stdout",
     "output_type": "stream",
     "text": [
      "R2 Coefficient for Least Squares Regression Model: 0.999662434108\n",
      "R2 Coefficient for Ridge Regression Model: 0.999662661329\n",
      "R2 Coefficient for Lasso Model: 0.999637745939\n",
      "R2 Coefficient for PCR Model: 0.997704521012\n",
      "R2 Coefficient for PLS Model: 0.99235313167\n"
     ]
    }
   ],
   "source": [
    "# Referencing https://en.wikipedia.org/wiki/Coefficient_of_determination\n",
    "# R2 = 1 - SSres/SStot\n",
    "# SSres = sum((y2_validation[i] - model_pred[i])^2)\n",
    "# SStot = sum((y2_validation[i] - mean(y2_validation))^2)\n",
    "\n",
    "y2_validation_mean = np.mean(y2_validation)\n",
    "y2_validation_diff_from_mean = []\n",
    "y2_validation_diff_from_mean[:] = [x - y2_validation_mean for x in y2_validation]\n",
    "SS_tot = np.sum(np.square(y2_validation_diff_from_mean))\n",
    "\n",
    "lsr_r2 = 1 - np.mean(np.square(y2_validation - lsr_pred)) / SS_tot\n",
    "rr_r2 = 1 - np.mean(np.square(y2_validation - rr_pred)) / SS_tot\n",
    "lasso_r2 = 1 - np.mean(np.square(y2_validation - lasso_pred)) / SS_tot\n",
    "pcr_r2 = 1 - np.mean(np.square(y2_validation - pcr_pred)) / SS_tot\n",
    "pls_r2 = 1 - np.mean(np.square(y2_validation - pls_pred)) / SS_tot\n",
    "\n",
    "print(\"R2 Coefficient for Least Squares Regression Model: \" + str(lsr_r2))\n",
    "print(\"R2 Coefficient for Ridge Regression Model: \" + str(rr_r2))\n",
    "print(\"R2 Coefficient for Lasso Model: \" + str(lasso_r2))\n",
    "print(\"R2 Coefficient for PCR Model: \" + str(pcr_r2))\n",
    "print(\"R2 Coefficient for PLS Model: \" + str(pls_r2))"
   ]
  },
  {
   "cell_type": "markdown",
   "metadata": {},
   "source": [
    "<p style=\"padding-left:100px\">\n",
    "    The $R^2$ coefficients for each model are all higher than 0.99, with LSR, RR, and Lasso having the highest $R^2$ values of > 0.999. This suggests that all models are extremely effective at predicting college applications received based on the College dataset, though in order of accuracy RR > LSR > Lasso > PCR > PLS.\n",
    "</p>"
   ]
  },
  {
   "cell_type": "code",
   "execution_count": null,
   "metadata": {
    "collapsed": true
   },
   "outputs": [],
   "source": []
  }
 ],
 "metadata": {
  "kernelspec": {
   "display_name": "Python [Root]",
   "language": "python",
   "name": "Python [Root]"
  },
  "language_info": {
   "codemirror_mode": {
    "name": "ipython",
    "version": 2
   },
   "file_extension": ".py",
   "mimetype": "text/x-python",
   "name": "python",
   "nbconvert_exporter": "python",
   "pygments_lexer": "ipython2",
   "version": "2.7.12"
  }
 },
 "nbformat": 4,
 "nbformat_minor": 0
}
