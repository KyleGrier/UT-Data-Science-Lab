{
 "cells": [
  {
   "cell_type": "code",
   "execution_count": 1,
   "metadata": {
    "collapsed": true
   },
   "outputs": [],
   "source": [
    "%matplotlib inline\n",
    "import numpy as np\n",
    "import matplotlib.pyplot as plt\n",
    "import pandas as pd\n",
    "import seaborn as sns\n",
    "import numpy as np\n",
    "from scipy.stats import norm\n",
    "from sklearn.preprocessing import StandardScaler, scale\n",
    "from scipy import stats\n",
    "from scipy.stats import skew, boxcox, zscore\n",
    "import time\n",
    "import preprocess as pre\n",
    "import train as tr\n",
    "from collections import Counter"
   ]
  },
  {
   "cell_type": "code",
   "execution_count": 2,
   "metadata": {},
   "outputs": [
    {
     "name": "stdout",
     "output_type": "stream",
     "text": [
      "(49998L, 15L)\n",
      "[ 30.24  59.37  80.15  89.79  92.51  94.84  95.44  96.04  96.63  97.22\n",
      "  97.79  98.36  98.92  99.46  99.99]\n"
     ]
    }
   ],
   "source": [
    "X, y = pre.preprocess_train()"
   ]
  },
  {
   "cell_type": "code",
   "execution_count": 3,
   "metadata": {},
   "outputs": [
    {
     "data": {
      "text/html": [
       "<div>\n",
       "<style>\n",
       "    .dataframe thead tr:only-child th {\n",
       "        text-align: right;\n",
       "    }\n",
       "\n",
       "    .dataframe thead th {\n",
       "        text-align: left;\n",
       "    }\n",
       "\n",
       "    .dataframe tbody tr th {\n",
       "        vertical-align: top;\n",
       "    }\n",
       "</style>\n",
       "<table border=\"1\" class=\"dataframe\">\n",
       "  <thead>\n",
       "    <tr style=\"text-align: right;\">\n",
       "      <th></th>\n",
       "      <th>F3</th>\n",
       "      <th>F6</th>\n",
       "      <th>F11</th>\n",
       "      <th>F16</th>\n",
       "      <th>F18</th>\n",
       "      <th>F19</th>\n",
       "      <th>F21</th>\n",
       "      <th>F22</th>\n",
       "      <th>F23</th>\n",
       "      <th>F25</th>\n",
       "      <th>F26</th>\n",
       "      <th>F27</th>\n",
       "      <th>pca_0</th>\n",
       "      <th>pca_1</th>\n",
       "      <th>pca_2</th>\n",
       "      <th>pca_3</th>\n",
       "      <th>pca_4</th>\n",
       "      <th>pca_5</th>\n",
       "      <th>pca_6</th>\n",
       "    </tr>\n",
       "  </thead>\n",
       "  <tbody>\n",
       "    <tr>\n",
       "      <th>0</th>\n",
       "      <td>0.194869</td>\n",
       "      <td>1.098612</td>\n",
       "      <td>4.174387</td>\n",
       "      <td>1.512927</td>\n",
       "      <td>5.342334</td>\n",
       "      <td>10.732149</td>\n",
       "      <td>0.000000</td>\n",
       "      <td>3.610918</td>\n",
       "      <td>0.081202</td>\n",
       "      <td>0.000000</td>\n",
       "      <td>4.007333</td>\n",
       "      <td>0.054961</td>\n",
       "      <td>-0.641494</td>\n",
       "      <td>0.871707</td>\n",
       "      <td>-0.320672</td>\n",
       "      <td>-0.188056</td>\n",
       "      <td>0.014934</td>\n",
       "      <td>-0.039919</td>\n",
       "      <td>-0.025469</td>\n",
       "    </tr>\n",
       "    <tr>\n",
       "      <th>1</th>\n",
       "      <td>0.250535</td>\n",
       "      <td>2.708050</td>\n",
       "      <td>4.488636</td>\n",
       "      <td>2.452728</td>\n",
       "      <td>5.666427</td>\n",
       "      <td>10.034560</td>\n",
       "      <td>0.000000</td>\n",
       "      <td>2.833213</td>\n",
       "      <td>0.041942</td>\n",
       "      <td>0.000000</td>\n",
       "      <td>4.905275</td>\n",
       "      <td>0.410219</td>\n",
       "      <td>-0.512204</td>\n",
       "      <td>0.232480</td>\n",
       "      <td>0.552622</td>\n",
       "      <td>-0.051843</td>\n",
       "      <td>-0.005175</td>\n",
       "      <td>-0.043467</td>\n",
       "      <td>-0.025170</td>\n",
       "    </tr>\n",
       "    <tr>\n",
       "      <th>2</th>\n",
       "      <td>0.685435</td>\n",
       "      <td>9.037296</td>\n",
       "      <td>4.174387</td>\n",
       "      <td>1.512927</td>\n",
       "      <td>5.416100</td>\n",
       "      <td>9.176473</td>\n",
       "      <td>0.000000</td>\n",
       "      <td>3.295837</td>\n",
       "      <td>0.695357</td>\n",
       "      <td>1.098612</td>\n",
       "      <td>4.262680</td>\n",
       "      <td>0.557782</td>\n",
       "      <td>0.594900</td>\n",
       "      <td>-1.152426</td>\n",
       "      <td>-0.609980</td>\n",
       "      <td>-0.147564</td>\n",
       "      <td>-0.001742</td>\n",
       "      <td>-0.043320</td>\n",
       "      <td>-0.024063</td>\n",
       "    </tr>\n",
       "    <tr>\n",
       "      <th>3</th>\n",
       "      <td>0.000000</td>\n",
       "      <td>1.609438</td>\n",
       "      <td>4.532599</td>\n",
       "      <td>2.089392</td>\n",
       "      <td>5.541264</td>\n",
       "      <td>8.779711</td>\n",
       "      <td>1.098612</td>\n",
       "      <td>2.833213</td>\n",
       "      <td>0.000000</td>\n",
       "      <td>0.000000</td>\n",
       "      <td>4.615121</td>\n",
       "      <td>0.853780</td>\n",
       "      <td>1.051836</td>\n",
       "      <td>-1.100266</td>\n",
       "      <td>-0.010168</td>\n",
       "      <td>-0.063594</td>\n",
       "      <td>-0.011767</td>\n",
       "      <td>-0.045528</td>\n",
       "      <td>-0.024179</td>\n",
       "    </tr>\n",
       "    <tr>\n",
       "      <th>4</th>\n",
       "      <td>0.900809</td>\n",
       "      <td>3.135494</td>\n",
       "      <td>4.262680</td>\n",
       "      <td>1.512927</td>\n",
       "      <td>5.693732</td>\n",
       "      <td>8.987322</td>\n",
       "      <td>1.098612</td>\n",
       "      <td>2.397895</td>\n",
       "      <td>0.945921</td>\n",
       "      <td>0.000000</td>\n",
       "      <td>4.962845</td>\n",
       "      <td>0.555214</td>\n",
       "      <td>-0.512276</td>\n",
       "      <td>0.232086</td>\n",
       "      <td>0.552873</td>\n",
       "      <td>-0.052139</td>\n",
       "      <td>-0.005834</td>\n",
       "      <td>-0.041852</td>\n",
       "      <td>-0.060380</td>\n",
       "    </tr>\n",
       "  </tbody>\n",
       "</table>\n",
       "</div>"
      ],
      "text/plain": [
       "         F3        F6       F11       F16       F18        F19       F21  \\\n",
       "0  0.194869  1.098612  4.174387  1.512927  5.342334  10.732149  0.000000   \n",
       "1  0.250535  2.708050  4.488636  2.452728  5.666427  10.034560  0.000000   \n",
       "2  0.685435  9.037296  4.174387  1.512927  5.416100   9.176473  0.000000   \n",
       "3  0.000000  1.609438  4.532599  2.089392  5.541264   8.779711  1.098612   \n",
       "4  0.900809  3.135494  4.262680  1.512927  5.693732   8.987322  1.098612   \n",
       "\n",
       "        F22       F23       F25       F26       F27     pca_0     pca_1  \\\n",
       "0  3.610918  0.081202  0.000000  4.007333  0.054961 -0.641494  0.871707   \n",
       "1  2.833213  0.041942  0.000000  4.905275  0.410219 -0.512204  0.232480   \n",
       "2  3.295837  0.695357  1.098612  4.262680  0.557782  0.594900 -1.152426   \n",
       "3  2.833213  0.000000  0.000000  4.615121  0.853780  1.051836 -1.100266   \n",
       "4  2.397895  0.945921  0.000000  4.962845  0.555214 -0.512276  0.232086   \n",
       "\n",
       "      pca_2     pca_3     pca_4     pca_5     pca_6  \n",
       "0 -0.320672 -0.188056  0.014934 -0.039919 -0.025469  \n",
       "1  0.552622 -0.051843 -0.005175 -0.043467 -0.025170  \n",
       "2 -0.609980 -0.147564 -0.001742 -0.043320 -0.024063  \n",
       "3 -0.010168 -0.063594 -0.011767 -0.045528 -0.024179  \n",
       "4  0.552873 -0.052139 -0.005834 -0.041852 -0.060380  "
      ]
     },
     "execution_count": 3,
     "metadata": {},
     "output_type": "execute_result"
    }
   ],
   "source": [
    "X.head()"
   ]
  },
  {
   "cell_type": "code",
   "execution_count": null,
   "metadata": {
    "collapsed": true
   },
   "outputs": [],
   "source": [
    "X_other = X.loc[:, ('F1', 'F2', 'F4', 'F5', 'F7', 'F8', 'F9', 'F10', 'F12', 'F13', 'F14', 'F15', 'F17', 'F20', 'F24')]"
   ]
  },
  {
   "cell_type": "code",
   "execution_count": null,
   "metadata": {},
   "outputs": [],
   "source": [
    "feat_other = pre.featPCA(X_other)"
   ]
  },
  {
   "cell_type": "code",
   "execution_count": null,
   "metadata": {
    "collapsed": true
   },
   "outputs": [],
   "source": [
    "cols = ['F5', 'F19']\n",
    "replace = [0.0, 0]\n",
    "X = fixNaN(X, cols, replace)"
   ]
  },
  {
   "cell_type": "code",
   "execution_count": null,
   "metadata": {},
   "outputs": [],
   "source": [
    "pre.printSkew(X)"
   ]
  },
  {
   "cell_type": "code",
   "execution_count": null,
   "metadata": {},
   "outputs": [],
   "source": [
    "corrmat = X.corr()\n",
    "f, ax = plt.subplots(figsize=(16, 12))\n",
    "sns.heatmap(corrmat, vmax=.8, cmap=\"RdBu\", linewidths=.5, square=True);"
   ]
  },
  {
   "cell_type": "code",
   "execution_count": null,
   "metadata": {
    "collapsed": true
   },
   "outputs": [],
   "source": [
    "feat_percent = pre.showCounts(X)"
   ]
  },
  {
   "cell_type": "code",
   "execution_count": null,
   "metadata": {
    "collapsed": true
   },
   "outputs": [],
   "source": [
    "import operator\n",
    "sorted_x = sorted(feat_percent.items(), key=operator.itemgetter(1))"
   ]
  },
  {
   "cell_type": "code",
   "execution_count": null,
   "metadata": {
    "collapsed": true
   },
   "outputs": [],
   "source": [
    "from collections import Counter\n",
    "len_feat = len(X)\n",
    "for col in X.columns:\n",
    "    feat_count = Counter(X[col].values)\n",
    "    largest = float(feat_count.most_common(1)[0][1])\n",
    "    print(largest/len_feat)\n",
    "    print(\"{} has {} values\".format(col, len(feat_count)))\n",
    "    print"
   ]
  },
  {
   "cell_type": "code",
   "execution_count": null,
   "metadata": {
    "collapsed": true
   },
   "outputs": [],
   "source": [
    "X.head()"
   ]
  },
  {
   "cell_type": "code",
   "execution_count": null,
   "metadata": {
    "collapsed": true
   },
   "outputs": [],
   "source": [
    "y.head()"
   ]
  },
  {
   "cell_type": "code",
   "execution_count": null,
   "metadata": {
    "collapsed": true
   },
   "outputs": [],
   "source": [
    "len(X.columns)"
   ]
  },
  {
   "cell_type": "code",
   "execution_count": null,
   "metadata": {
    "collapsed": true
   },
   "outputs": [],
   "source": [
    "f, axes = plt.subplots(9, 3, figsize=(20,10))\n",
    "row = 0\n",
    "c = 0\n",
    "for col in X.columns:\n",
    "    axes[row, c].scatter(X[col].values, y.values)\n",
    "    axes[row, c].set_title(col)\n",
    "    c += 1\n",
    "    if(c % 3 == 0):\n",
    "        c = 0\n",
    "        row += 1\n",
    "plt.show()"
   ]
  },
  {
   "cell_type": "code",
   "execution_count": null,
   "metadata": {
    "collapsed": true
   },
   "outputs": [],
   "source": [
    "train = X\n",
    "train[\"Y\"] = y\n",
    "cols = ['Y', 'F1', 'F2', 'F3', 'F4', 'F5', 'F6']\n",
    "sns.pairplot(train[cols])\n",
    "plt.show();"
   ]
  },
  {
   "cell_type": "code",
   "execution_count": null,
   "metadata": {
    "collapsed": true
   },
   "outputs": [],
   "source": [
    "plt.boxplot(X.F1)"
   ]
  },
  {
   "cell_type": "code",
   "execution_count": null,
   "metadata": {
    "collapsed": true
   },
   "outputs": [],
   "source": [
    "X.head()"
   ]
  },
  {
   "cell_type": "code",
   "execution_count": null,
   "metadata": {
    "collapsed": true
   },
   "outputs": [],
   "source": []
  }
 ],
 "metadata": {
  "kernelspec": {
   "display_name": "Python 2",
   "language": "python",
   "name": "python2"
  },
  "language_info": {
   "codemirror_mode": {
    "name": "ipython",
    "version": 2
   },
   "file_extension": ".py",
   "mimetype": "text/x-python",
   "name": "python",
   "nbconvert_exporter": "python",
   "pygments_lexer": "ipython2",
   "version": "2.7.13"
  }
 },
 "nbformat": 4,
 "nbformat_minor": 2
}
