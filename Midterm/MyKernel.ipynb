{
 "cells": [
  {
   "cell_type": "code",
   "execution_count": 1,
   "metadata": {
    "collapsed": true
   },
   "outputs": [],
   "source": [
    "%matplotlib inline\n",
    "import numpy as np\n",
    "import matplotlib.pyplot as plt\n",
    "import pandas as pd\n",
    "import seaborn as sns\n",
    "import numpy as np\n",
    "from scipy.stats import norm\n",
    "from sklearn.preprocessing import StandardScaler, scale\n",
    "from scipy import stats\n",
    "from scipy.stats import skew, boxcox, zscore\n",
    "import time\n",
    "import preprocess as pre\n",
    "import train as tr\n",
    "from collections import Counter"
   ]
  },
  {
   "cell_type": "code",
   "execution_count": 2,
   "metadata": {},
   "outputs": [],
   "source": [
    "X, y = pre.preprocess_train()"
   ]
  },
  {
   "cell_type": "code",
   "execution_count": 3,
   "metadata": {},
   "outputs": [
    {
     "name": "stdout",
     "output_type": "stream",
     "text": [
      "{'F2': 4.429177838757414, 'F3': 28.835212221052146, 'F5': 1.3087637948040127, 'F6': 39.170702239449916, 'F9': 6.29916684717716, 'F21': 10.866475426764564, 'F23': 29.449979177432258, 'F22': 1.1406060761123502, 'F18': 0.8729206772434451, 'F27': 2.663372455515595, 'F26': 0.8729206772434458, 'F25': 2.3881398432619236, 'F10': 1.2501036761908793, 'F11': 0.8732695502734705, 'F16': 5.183790532782672, 'F14': 4.400276412883438}\n",
      "\n"
     ]
    }
   ],
   "source": [
    "pre.printSkew(X)"
   ]
  },
  {
   "cell_type": "code",
   "execution_count": 8,
   "metadata": {},
   "outputs": [
    {
     "data": {
      "image/png": "[encoded data removed]",
      "text/plain": [
       "<matplotlib.figure.Figure at 0xb557e80>"
      ]
     },
     "metadata": {},
     "output_type": "display_data"
    }
   ],
   "source": [
    "corrmat = X.corr()\n",
    "f, ax = plt.subplots(figsize=(16, 12))\n",
    "sns.heatmap(corrmat, vmax=.8, cmap=\"RdBu\", linewidths=.5, square=True);"
   ]
  },
  {
   "cell_type": "code",
   "execution_count": null,
   "metadata": {
    "collapsed": true
   },
   "outputs": [],
   "source": [
    "feat_percent = pre.showCounts(X)"
   ]
  },
  {
   "cell_type": "code",
   "execution_count": null,
   "metadata": {
    "collapsed": true
   },
   "outputs": [],
   "source": [
    "import operator\n",
    "sorted_x = sorted(feat_percent.items(), key=operator.itemgetter(1))"
   ]
  },
  {
   "cell_type": "code",
   "execution_count": null,
   "metadata": {
    "collapsed": true
   },
   "outputs": [],
   "source": [
    "from collections import Counter\n",
    "len_feat = len(X)\n",
    "for col in X.columns:\n",
    "    feat_count = Counter(X[col].values)\n",
    "    largest = float(feat_count.most_common(1)[0][1])\n",
    "    print(largest/len_feat)\n",
    "    print(\"{} has {} values\".format(col, len(feat_count)))\n",
    "    print"
   ]
  },
  {
   "cell_type": "code",
   "execution_count": null,
   "metadata": {
    "collapsed": true
   },
   "outputs": [],
   "source": [
    "X.head()"
   ]
  },
  {
   "cell_type": "code",
   "execution_count": null,
   "metadata": {
    "collapsed": true
   },
   "outputs": [],
   "source": [
    "y.head()"
   ]
  },
  {
   "cell_type": "code",
   "execution_count": null,
   "metadata": {
    "collapsed": true
   },
   "outputs": [],
   "source": [
    "len(X.columns)"
   ]
  },
  {
   "cell_type": "code",
   "execution_count": null,
   "metadata": {
    "collapsed": true
   },
   "outputs": [],
   "source": [
    "f, axes = plt.subplots(9, 3, figsize=(20,10))\n",
    "row = 0\n",
    "c = 0\n",
    "for col in X.columns:\n",
    "    axes[row, c].scatter(X[col].values, y.values)\n",
    "    axes[row, c].set_title(col)\n",
    "    c += 1\n",
    "    if(c % 3 == 0):\n",
    "        c = 0\n",
    "        row += 1\n",
    "plt.show()"
   ]
  },
  {
   "cell_type": "code",
   "execution_count": null,
   "metadata": {
    "collapsed": true
   },
   "outputs": [],
   "source": [
    "train = X\n",
    "train[\"Y\"] = y\n",
    "cols = ['Y', 'F1', 'F2', 'F3', 'F4', 'F5', 'F6']\n",
    "sns.pairplot(train[cols])\n",
    "plt.show();"
   ]
  },
  {
   "cell_type": "code",
   "execution_count": null,
   "metadata": {
    "collapsed": true
   },
   "outputs": [],
   "source": [
    "plt.boxplot(X.F1)"
   ]
  },
  {
   "cell_type": "code",
   "execution_count": null,
   "metadata": {
    "collapsed": true
   },
   "outputs": [],
   "source": [
    "X.head()"
   ]
  },
  {
   "cell_type": "code",
   "execution_count": null,
   "metadata": {
    "collapsed": true
   },
   "outputs": [],
   "source": []
  }
 ],
 "metadata": {
  "kernelspec": {
   "display_name": "Python 2",
   "language": "python",
   "name": "python2"
  },
  "language_info": {
   "codemirror_mode": {
    "name": "ipython",
    "version": 2
   },
   "file_extension": ".py",
   "mimetype": "text/x-python",
   "name": "python",
   "nbconvert_exporter": "python",
   "pygments_lexer": "ipython2",
   "version": "2.7.13"
  }
 },
 "nbformat": 4,
 "nbformat_minor": 2
}
