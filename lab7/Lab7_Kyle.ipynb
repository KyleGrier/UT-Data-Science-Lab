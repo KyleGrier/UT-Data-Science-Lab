{
 "cells": [
  {
   "cell_type": "code",
   "execution_count": 163,
   "metadata": {
    "collapsed": true
   },
   "outputs": [],
   "source": [
    "import numpy as np\n",
    "import pandas as pd\n",
    "import matplotlib.pyplot as plt\n",
    "%matplotlib inline"
   ]
  },
  {
   "cell_type": "code",
   "execution_count": 164,
   "metadata": {
    "collapsed": true
   },
   "outputs": [],
   "source": [
    "class_kag = pd.read_csv('train_final.csv', index_col = 'id')\n",
    "real_kag = pd.read_csv('cs-training.csv', index_col = 0)"
   ]
  },
  {
   "cell_type": "code",
   "execution_count": 165,
   "metadata": {},
   "outputs": [
    {
     "data": {
      "text/html": [
       "<div>\n",
       "<style>\n",
       "    .dataframe thead tr:only-child th {\n",
       "        text-align: right;\n",
       "    }\n",
       "\n",
       "    .dataframe thead th {\n",
       "        text-align: left;\n",
       "    }\n",
       "\n",
       "    .dataframe tbody tr th {\n",
       "        vertical-align: top;\n",
       "    }\n",
       "</style>\n",
       "<table border=\"1\" class=\"dataframe\">\n",
       "  <thead>\n",
       "    <tr style=\"text-align: right;\">\n",
       "      <th></th>\n",
       "      <th>SeriousDlqin2yrs</th>\n",
       "      <th>RevolvingUtilizationOfUnsecuredLines</th>\n",
       "      <th>age</th>\n",
       "      <th>NumberOfTime30-59DaysPastDueNotWorse</th>\n",
       "      <th>DebtRatio</th>\n",
       "      <th>MonthlyIncome</th>\n",
       "      <th>NumberOfOpenCreditLinesAndLoans</th>\n",
       "      <th>NumberOfTimes90DaysLate</th>\n",
       "      <th>NumberRealEstateLoansOrLines</th>\n",
       "      <th>NumberOfTime60-89DaysPastDueNotWorse</th>\n",
       "      <th>NumberOfDependents</th>\n",
       "    </tr>\n",
       "  </thead>\n",
       "  <tbody>\n",
       "    <tr>\n",
       "      <th>1</th>\n",
       "      <td>1</td>\n",
       "      <td>0.766127</td>\n",
       "      <td>45</td>\n",
       "      <td>2</td>\n",
       "      <td>0.802982</td>\n",
       "      <td>9120.0</td>\n",
       "      <td>13</td>\n",
       "      <td>0</td>\n",
       "      <td>6</td>\n",
       "      <td>0</td>\n",
       "      <td>2.0</td>\n",
       "    </tr>\n",
       "    <tr>\n",
       "      <th>2</th>\n",
       "      <td>0</td>\n",
       "      <td>0.957151</td>\n",
       "      <td>40</td>\n",
       "      <td>0</td>\n",
       "      <td>0.121876</td>\n",
       "      <td>2600.0</td>\n",
       "      <td>4</td>\n",
       "      <td>0</td>\n",
       "      <td>0</td>\n",
       "      <td>0</td>\n",
       "      <td>1.0</td>\n",
       "    </tr>\n",
       "    <tr>\n",
       "      <th>3</th>\n",
       "      <td>0</td>\n",
       "      <td>0.658180</td>\n",
       "      <td>38</td>\n",
       "      <td>1</td>\n",
       "      <td>0.085113</td>\n",
       "      <td>3042.0</td>\n",
       "      <td>2</td>\n",
       "      <td>1</td>\n",
       "      <td>0</td>\n",
       "      <td>0</td>\n",
       "      <td>0.0</td>\n",
       "    </tr>\n",
       "    <tr>\n",
       "      <th>4</th>\n",
       "      <td>0</td>\n",
       "      <td>0.233810</td>\n",
       "      <td>30</td>\n",
       "      <td>0</td>\n",
       "      <td>0.036050</td>\n",
       "      <td>3300.0</td>\n",
       "      <td>5</td>\n",
       "      <td>0</td>\n",
       "      <td>0</td>\n",
       "      <td>0</td>\n",
       "      <td>0.0</td>\n",
       "    </tr>\n",
       "    <tr>\n",
       "      <th>5</th>\n",
       "      <td>0</td>\n",
       "      <td>0.907239</td>\n",
       "      <td>49</td>\n",
       "      <td>1</td>\n",
       "      <td>0.024926</td>\n",
       "      <td>63588.0</td>\n",
       "      <td>7</td>\n",
       "      <td>0</td>\n",
       "      <td>1</td>\n",
       "      <td>0</td>\n",
       "      <td>0.0</td>\n",
       "    </tr>\n",
       "  </tbody>\n",
       "</table>\n",
       "</div>"
      ],
      "text/plain": [
       "   SeriousDlqin2yrs  RevolvingUtilizationOfUnsecuredLines  age  \\\n",
       "1                 1                              0.766127   45   \n",
       "2                 0                              0.957151   40   \n",
       "3                 0                              0.658180   38   \n",
       "4                 0                              0.233810   30   \n",
       "5                 0                              0.907239   49   \n",
       "\n",
       "   NumberOfTime30-59DaysPastDueNotWorse  DebtRatio  MonthlyIncome  \\\n",
       "1                                     2   0.802982         9120.0   \n",
       "2                                     0   0.121876         2600.0   \n",
       "3                                     1   0.085113         3042.0   \n",
       "4                                     0   0.036050         3300.0   \n",
       "5                                     1   0.024926        63588.0   \n",
       "\n",
       "   NumberOfOpenCreditLinesAndLoans  NumberOfTimes90DaysLate  \\\n",
       "1                               13                        0   \n",
       "2                                4                        0   \n",
       "3                                2                        1   \n",
       "4                                5                        0   \n",
       "5                                7                        0   \n",
       "\n",
       "   NumberRealEstateLoansOrLines  NumberOfTime60-89DaysPastDueNotWorse  \\\n",
       "1                             6                                     0   \n",
       "2                             0                                     0   \n",
       "3                             0                                     0   \n",
       "4                             0                                     0   \n",
       "5                             1                                     0   \n",
       "\n",
       "   NumberOfDependents  \n",
       "1                 2.0  \n",
       "2                 1.0  \n",
       "3                 0.0  \n",
       "4                 0.0  \n",
       "5                 0.0  "
      ]
     },
     "execution_count": 165,
     "metadata": {},
     "output_type": "execute_result"
    }
   ],
   "source": [
    "real_kag.head()"
   ]
  },
  {
   "cell_type": "code",
   "execution_count": 166,
   "metadata": {},
   "outputs": [
    {
     "data": {
      "text/html": [
       "<div>\n",
       "<style>\n",
       "    .dataframe thead tr:only-child th {\n",
       "        text-align: right;\n",
       "    }\n",
       "\n",
       "    .dataframe thead th {\n",
       "        text-align: left;\n",
       "    }\n",
       "\n",
       "    .dataframe tbody tr th {\n",
       "        vertical-align: top;\n",
       "    }\n",
       "</style>\n",
       "<table border=\"1\" class=\"dataframe\">\n",
       "  <thead>\n",
       "    <tr style=\"text-align: right;\">\n",
       "      <th></th>\n",
       "      <th>Y</th>\n",
       "      <th>F1</th>\n",
       "      <th>F2</th>\n",
       "      <th>F3</th>\n",
       "      <th>F4</th>\n",
       "      <th>F5</th>\n",
       "      <th>F6</th>\n",
       "      <th>F7</th>\n",
       "      <th>F8</th>\n",
       "      <th>F9</th>\n",
       "      <th>...</th>\n",
       "      <th>F18</th>\n",
       "      <th>F19</th>\n",
       "      <th>F20</th>\n",
       "      <th>F21</th>\n",
       "      <th>F22</th>\n",
       "      <th>F23</th>\n",
       "      <th>F24</th>\n",
       "      <th>F25</th>\n",
       "      <th>F26</th>\n",
       "      <th>F27</th>\n",
       "    </tr>\n",
       "  </thead>\n",
       "  <tbody>\n",
       "    <tr>\n",
       "      <th>count</th>\n",
       "      <td>49998.000000</td>\n",
       "      <td>49998.000000</td>\n",
       "      <td>49998.000000</td>\n",
       "      <td>49998.000000</td>\n",
       "      <td>49998.000000</td>\n",
       "      <td>48730.000000</td>\n",
       "      <td>4.999800e+04</td>\n",
       "      <td>49998.000000</td>\n",
       "      <td>49998.000000</td>\n",
       "      <td>49998.000000</td>\n",
       "      <td>...</td>\n",
       "      <td>49998.000000</td>\n",
       "      <td>4.017000e+04</td>\n",
       "      <td>49998.000000</td>\n",
       "      <td>49998.000000</td>\n",
       "      <td>49998.000000</td>\n",
       "      <td>49998.000000</td>\n",
       "      <td>49998.000000</td>\n",
       "      <td>49998.000000</td>\n",
       "      <td>49998.000000</td>\n",
       "      <td>49998.000000</td>\n",
       "    </tr>\n",
       "    <tr>\n",
       "      <th>mean</th>\n",
       "      <td>0.067223</td>\n",
       "      <td>1.043682</td>\n",
       "      <td>0.240510</td>\n",
       "      <td>5.272668</td>\n",
       "      <td>0.043542</td>\n",
       "      <td>0.753478</td>\n",
       "      <td>2.454196e+05</td>\n",
       "      <td>1.045302</td>\n",
       "      <td>1.041502</td>\n",
       "      <td>7.583423</td>\n",
       "      <td>...</td>\n",
       "      <td>129.306232</td>\n",
       "      <td>6.665120e+03</td>\n",
       "      <td>1.045362</td>\n",
       "      <td>32.148846</td>\n",
       "      <td>8.446638</td>\n",
       "      <td>5.273124</td>\n",
       "      <td>1.043482</td>\n",
       "      <td>0.423617</td>\n",
       "      <td>52.306232</td>\n",
       "      <td>362.038515</td>\n",
       "    </tr>\n",
       "    <tr>\n",
       "      <th>std</th>\n",
       "      <td>0.250410</td>\n",
       "      <td>0.266339</td>\n",
       "      <td>4.161531</td>\n",
       "      <td>224.530270</td>\n",
       "      <td>0.256063</td>\n",
       "      <td>1.112498</td>\n",
       "      <td>3.915193e+07</td>\n",
       "      <td>0.281518</td>\n",
       "      <td>0.247753</td>\n",
       "      <td>288.967483</td>\n",
       "      <td>...</td>\n",
       "      <td>14.797809</td>\n",
       "      <td>1.778017e+04</td>\n",
       "      <td>0.266208</td>\n",
       "      <td>3644.384303</td>\n",
       "      <td>5.121070</td>\n",
       "      <td>224.529521</td>\n",
       "      <td>0.259602</td>\n",
       "      <td>4.199845</td>\n",
       "      <td>14.797809</td>\n",
       "      <td>2212.369706</td>\n",
       "    </tr>\n",
       "    <tr>\n",
       "      <th>min</th>\n",
       "      <td>0.000000</td>\n",
       "      <td>1.000000</td>\n",
       "      <td>0.000000</td>\n",
       "      <td>-0.372758</td>\n",
       "      <td>0.000000</td>\n",
       "      <td>0.000000</td>\n",
       "      <td>1.000000e+00</td>\n",
       "      <td>1.000000</td>\n",
       "      <td>1.000000</td>\n",
       "      <td>1.000000</td>\n",
       "      <td>...</td>\n",
       "      <td>98.000000</td>\n",
       "      <td>0.000000e+00</td>\n",
       "      <td>1.000000</td>\n",
       "      <td>0.000000</td>\n",
       "      <td>0.000000</td>\n",
       "      <td>0.000000</td>\n",
       "      <td>1.000000</td>\n",
       "      <td>0.000000</td>\n",
       "      <td>21.000000</td>\n",
       "      <td>0.000000</td>\n",
       "    </tr>\n",
       "    <tr>\n",
       "      <th>25%</th>\n",
       "      <td>0.000000</td>\n",
       "      <td>1.000000</td>\n",
       "      <td>0.000000</td>\n",
       "      <td>0.038775</td>\n",
       "      <td>0.000000</td>\n",
       "      <td>0.000000</td>\n",
       "      <td>1.000000e+00</td>\n",
       "      <td>1.000000</td>\n",
       "      <td>1.000000</td>\n",
       "      <td>1.000000</td>\n",
       "      <td>...</td>\n",
       "      <td>118.000000</td>\n",
       "      <td>3.400000e+03</td>\n",
       "      <td>1.000000</td>\n",
       "      <td>0.000000</td>\n",
       "      <td>5.000000</td>\n",
       "      <td>0.030389</td>\n",
       "      <td>1.000000</td>\n",
       "      <td>0.000000</td>\n",
       "      <td>41.000000</td>\n",
       "      <td>0.176205</td>\n",
       "    </tr>\n",
       "    <tr>\n",
       "      <th>50%</th>\n",
       "      <td>0.000000</td>\n",
       "      <td>1.000000</td>\n",
       "      <td>0.000000</td>\n",
       "      <td>0.186073</td>\n",
       "      <td>0.000000</td>\n",
       "      <td>0.000000</td>\n",
       "      <td>2.000000e+00</td>\n",
       "      <td>1.000000</td>\n",
       "      <td>1.000000</td>\n",
       "      <td>1.000000</td>\n",
       "      <td>...</td>\n",
       "      <td>129.000000</td>\n",
       "      <td>5.362000e+03</td>\n",
       "      <td>1.000000</td>\n",
       "      <td>0.000000</td>\n",
       "      <td>8.000000</td>\n",
       "      <td>0.154672</td>\n",
       "      <td>1.000000</td>\n",
       "      <td>0.000000</td>\n",
       "      <td>52.000000</td>\n",
       "      <td>0.366524</td>\n",
       "    </tr>\n",
       "    <tr>\n",
       "      <th>75%</th>\n",
       "      <td>0.000000</td>\n",
       "      <td>1.000000</td>\n",
       "      <td>0.000000</td>\n",
       "      <td>0.563830</td>\n",
       "      <td>0.000000</td>\n",
       "      <td>1.000000</td>\n",
       "      <td>9.000000e+00</td>\n",
       "      <td>1.000000</td>\n",
       "      <td>1.000000</td>\n",
       "      <td>2.000000</td>\n",
       "      <td>...</td>\n",
       "      <td>140.000000</td>\n",
       "      <td>8.200000e+03</td>\n",
       "      <td>1.000000</td>\n",
       "      <td>1.000000</td>\n",
       "      <td>11.000000</td>\n",
       "      <td>0.555344</td>\n",
       "      <td>1.000000</td>\n",
       "      <td>0.000000</td>\n",
       "      <td>63.000000</td>\n",
       "      <td>0.875057</td>\n",
       "    </tr>\n",
       "    <tr>\n",
       "      <th>max</th>\n",
       "      <td>1.000000</td>\n",
       "      <td>18.000000</td>\n",
       "      <td>98.000000</td>\n",
       "      <td>29110.040580</td>\n",
       "      <td>8.000000</td>\n",
       "      <td>10.000000</td>\n",
       "      <td>8.194102e+09</td>\n",
       "      <td>23.000000</td>\n",
       "      <td>9.000000</td>\n",
       "      <td>59249.000000</td>\n",
       "      <td>...</td>\n",
       "      <td>184.000000</td>\n",
       "      <td>3.008750e+06</td>\n",
       "      <td>10.000000</td>\n",
       "      <td>630367.000000</td>\n",
       "      <td>58.000000</td>\n",
       "      <td>29110.000000</td>\n",
       "      <td>10.000000</td>\n",
       "      <td>98.000000</td>\n",
       "      <td>107.000000</td>\n",
       "      <td>329664.000000</td>\n",
       "    </tr>\n",
       "  </tbody>\n",
       "</table>\n",
       "<p>8 rows × 28 columns</p>\n",
       "</div>"
      ],
      "text/plain": [
       "                  Y            F1            F2            F3            F4  \\\n",
       "count  49998.000000  49998.000000  49998.000000  49998.000000  49998.000000   \n",
       "mean       0.067223      1.043682      0.240510      5.272668      0.043542   \n",
       "std        0.250410      0.266339      4.161531    224.530270      0.256063   \n",
       "min        0.000000      1.000000      0.000000     -0.372758      0.000000   \n",
       "25%        0.000000      1.000000      0.000000      0.038775      0.000000   \n",
       "50%        0.000000      1.000000      0.000000      0.186073      0.000000   \n",
       "75%        0.000000      1.000000      0.000000      0.563830      0.000000   \n",
       "max        1.000000     18.000000     98.000000  29110.040580      8.000000   \n",
       "\n",
       "                 F5            F6            F7            F8            F9  \\\n",
       "count  48730.000000  4.999800e+04  49998.000000  49998.000000  49998.000000   \n",
       "mean       0.753478  2.454196e+05      1.045302      1.041502      7.583423   \n",
       "std        1.112498  3.915193e+07      0.281518      0.247753    288.967483   \n",
       "min        0.000000  1.000000e+00      1.000000      1.000000      1.000000   \n",
       "25%        0.000000  1.000000e+00      1.000000      1.000000      1.000000   \n",
       "50%        0.000000  2.000000e+00      1.000000      1.000000      1.000000   \n",
       "75%        1.000000  9.000000e+00      1.000000      1.000000      2.000000   \n",
       "max       10.000000  8.194102e+09     23.000000      9.000000  59249.000000   \n",
       "\n",
       "           ...                 F18           F19           F20            F21  \\\n",
       "count      ...        49998.000000  4.017000e+04  49998.000000   49998.000000   \n",
       "mean       ...          129.306232  6.665120e+03      1.045362      32.148846   \n",
       "std        ...           14.797809  1.778017e+04      0.266208    3644.384303   \n",
       "min        ...           98.000000  0.000000e+00      1.000000       0.000000   \n",
       "25%        ...          118.000000  3.400000e+03      1.000000       0.000000   \n",
       "50%        ...          129.000000  5.362000e+03      1.000000       0.000000   \n",
       "75%        ...          140.000000  8.200000e+03      1.000000       1.000000   \n",
       "max        ...          184.000000  3.008750e+06     10.000000  630367.000000   \n",
       "\n",
       "                F22           F23           F24           F25           F26  \\\n",
       "count  49998.000000  49998.000000  49998.000000  49998.000000  49998.000000   \n",
       "mean       8.446638      5.273124      1.043482      0.423617     52.306232   \n",
       "std        5.121070    224.529521      0.259602      4.199845     14.797809   \n",
       "min        0.000000      0.000000      1.000000      0.000000     21.000000   \n",
       "25%        5.000000      0.030389      1.000000      0.000000     41.000000   \n",
       "50%        8.000000      0.154672      1.000000      0.000000     52.000000   \n",
       "75%       11.000000      0.555344      1.000000      0.000000     63.000000   \n",
       "max       58.000000  29110.000000     10.000000     98.000000    107.000000   \n",
       "\n",
       "                 F27  \n",
       "count   49998.000000  \n",
       "mean      362.038515  \n",
       "std      2212.369706  \n",
       "min         0.000000  \n",
       "25%         0.176205  \n",
       "50%         0.366524  \n",
       "75%         0.875057  \n",
       "max    329664.000000  \n",
       "\n",
       "[8 rows x 28 columns]"
      ]
     },
     "execution_count": 166,
     "metadata": {},
     "output_type": "execute_result"
    }
   ],
   "source": [
    "class_kag.describe()"
   ]
  },
  {
   "cell_type": "code",
   "execution_count": 167,
   "metadata": {},
   "outputs": [
    {
     "data": {
      "text/html": [
       "<div>\n",
       "<style>\n",
       "    .dataframe thead tr:only-child th {\n",
       "        text-align: right;\n",
       "    }\n",
       "\n",
       "    .dataframe thead th {\n",
       "        text-align: left;\n",
       "    }\n",
       "\n",
       "    .dataframe tbody tr th {\n",
       "        vertical-align: top;\n",
       "    }\n",
       "</style>\n",
       "<table border=\"1\" class=\"dataframe\">\n",
       "  <thead>\n",
       "    <tr style=\"text-align: right;\">\n",
       "      <th></th>\n",
       "      <th>SeriousDlqin2yrs</th>\n",
       "      <th>RevolvingUtilizationOfUnsecuredLines</th>\n",
       "      <th>age</th>\n",
       "      <th>NumberOfTime30-59DaysPastDueNotWorse</th>\n",
       "      <th>DebtRatio</th>\n",
       "      <th>MonthlyIncome</th>\n",
       "      <th>NumberOfOpenCreditLinesAndLoans</th>\n",
       "      <th>NumberOfTimes90DaysLate</th>\n",
       "      <th>NumberRealEstateLoansOrLines</th>\n",
       "      <th>NumberOfTime60-89DaysPastDueNotWorse</th>\n",
       "      <th>NumberOfDependents</th>\n",
       "    </tr>\n",
       "  </thead>\n",
       "  <tbody>\n",
       "    <tr>\n",
       "      <th>count</th>\n",
       "      <td>150000.000000</td>\n",
       "      <td>150000.000000</td>\n",
       "      <td>150000.000000</td>\n",
       "      <td>150000.000000</td>\n",
       "      <td>150000.000000</td>\n",
       "      <td>1.202690e+05</td>\n",
       "      <td>150000.000000</td>\n",
       "      <td>150000.000000</td>\n",
       "      <td>150000.000000</td>\n",
       "      <td>150000.000000</td>\n",
       "      <td>146076.000000</td>\n",
       "    </tr>\n",
       "    <tr>\n",
       "      <th>mean</th>\n",
       "      <td>0.066840</td>\n",
       "      <td>6.048438</td>\n",
       "      <td>52.295207</td>\n",
       "      <td>0.421033</td>\n",
       "      <td>353.005076</td>\n",
       "      <td>6.670221e+03</td>\n",
       "      <td>8.452760</td>\n",
       "      <td>0.265973</td>\n",
       "      <td>1.018240</td>\n",
       "      <td>0.240387</td>\n",
       "      <td>0.757222</td>\n",
       "    </tr>\n",
       "    <tr>\n",
       "      <th>std</th>\n",
       "      <td>0.249746</td>\n",
       "      <td>249.755371</td>\n",
       "      <td>14.771866</td>\n",
       "      <td>4.192781</td>\n",
       "      <td>2037.818523</td>\n",
       "      <td>1.438467e+04</td>\n",
       "      <td>5.145951</td>\n",
       "      <td>4.169304</td>\n",
       "      <td>1.129771</td>\n",
       "      <td>4.155179</td>\n",
       "      <td>1.115086</td>\n",
       "    </tr>\n",
       "    <tr>\n",
       "      <th>min</th>\n",
       "      <td>0.000000</td>\n",
       "      <td>0.000000</td>\n",
       "      <td>0.000000</td>\n",
       "      <td>0.000000</td>\n",
       "      <td>0.000000</td>\n",
       "      <td>0.000000e+00</td>\n",
       "      <td>0.000000</td>\n",
       "      <td>0.000000</td>\n",
       "      <td>0.000000</td>\n",
       "      <td>0.000000</td>\n",
       "      <td>0.000000</td>\n",
       "    </tr>\n",
       "    <tr>\n",
       "      <th>25%</th>\n",
       "      <td>0.000000</td>\n",
       "      <td>0.029867</td>\n",
       "      <td>41.000000</td>\n",
       "      <td>0.000000</td>\n",
       "      <td>0.175074</td>\n",
       "      <td>3.400000e+03</td>\n",
       "      <td>5.000000</td>\n",
       "      <td>0.000000</td>\n",
       "      <td>0.000000</td>\n",
       "      <td>0.000000</td>\n",
       "      <td>0.000000</td>\n",
       "    </tr>\n",
       "    <tr>\n",
       "      <th>50%</th>\n",
       "      <td>0.000000</td>\n",
       "      <td>0.154181</td>\n",
       "      <td>52.000000</td>\n",
       "      <td>0.000000</td>\n",
       "      <td>0.366508</td>\n",
       "      <td>5.400000e+03</td>\n",
       "      <td>8.000000</td>\n",
       "      <td>0.000000</td>\n",
       "      <td>1.000000</td>\n",
       "      <td>0.000000</td>\n",
       "      <td>0.000000</td>\n",
       "    </tr>\n",
       "    <tr>\n",
       "      <th>75%</th>\n",
       "      <td>0.000000</td>\n",
       "      <td>0.559046</td>\n",
       "      <td>63.000000</td>\n",
       "      <td>0.000000</td>\n",
       "      <td>0.868254</td>\n",
       "      <td>8.249000e+03</td>\n",
       "      <td>11.000000</td>\n",
       "      <td>0.000000</td>\n",
       "      <td>2.000000</td>\n",
       "      <td>0.000000</td>\n",
       "      <td>1.000000</td>\n",
       "    </tr>\n",
       "    <tr>\n",
       "      <th>max</th>\n",
       "      <td>1.000000</td>\n",
       "      <td>50708.000000</td>\n",
       "      <td>109.000000</td>\n",
       "      <td>98.000000</td>\n",
       "      <td>329664.000000</td>\n",
       "      <td>3.008750e+06</td>\n",
       "      <td>58.000000</td>\n",
       "      <td>98.000000</td>\n",
       "      <td>54.000000</td>\n",
       "      <td>98.000000</td>\n",
       "      <td>20.000000</td>\n",
       "    </tr>\n",
       "  </tbody>\n",
       "</table>\n",
       "</div>"
      ],
      "text/plain": [
       "       SeriousDlqin2yrs  RevolvingUtilizationOfUnsecuredLines            age  \\\n",
       "count     150000.000000                         150000.000000  150000.000000   \n",
       "mean           0.066840                              6.048438      52.295207   \n",
       "std            0.249746                            249.755371      14.771866   \n",
       "min            0.000000                              0.000000       0.000000   \n",
       "25%            0.000000                              0.029867      41.000000   \n",
       "50%            0.000000                              0.154181      52.000000   \n",
       "75%            0.000000                              0.559046      63.000000   \n",
       "max            1.000000                          50708.000000     109.000000   \n",
       "\n",
       "       NumberOfTime30-59DaysPastDueNotWorse      DebtRatio  MonthlyIncome  \\\n",
       "count                         150000.000000  150000.000000   1.202690e+05   \n",
       "mean                               0.421033     353.005076   6.670221e+03   \n",
       "std                                4.192781    2037.818523   1.438467e+04   \n",
       "min                                0.000000       0.000000   0.000000e+00   \n",
       "25%                                0.000000       0.175074   3.400000e+03   \n",
       "50%                                0.000000       0.366508   5.400000e+03   \n",
       "75%                                0.000000       0.868254   8.249000e+03   \n",
       "max                               98.000000  329664.000000   3.008750e+06   \n",
       "\n",
       "       NumberOfOpenCreditLinesAndLoans  NumberOfTimes90DaysLate  \\\n",
       "count                    150000.000000            150000.000000   \n",
       "mean                          8.452760                 0.265973   \n",
       "std                           5.145951                 4.169304   \n",
       "min                           0.000000                 0.000000   \n",
       "25%                           5.000000                 0.000000   \n",
       "50%                           8.000000                 0.000000   \n",
       "75%                          11.000000                 0.000000   \n",
       "max                          58.000000                98.000000   \n",
       "\n",
       "       NumberRealEstateLoansOrLines  NumberOfTime60-89DaysPastDueNotWorse  \\\n",
       "count                 150000.000000                         150000.000000   \n",
       "mean                       1.018240                              0.240387   \n",
       "std                        1.129771                              4.155179   \n",
       "min                        0.000000                              0.000000   \n",
       "25%                        0.000000                              0.000000   \n",
       "50%                        1.000000                              0.000000   \n",
       "75%                        2.000000                              0.000000   \n",
       "max                       54.000000                             98.000000   \n",
       "\n",
       "       NumberOfDependents  \n",
       "count       146076.000000  \n",
       "mean             0.757222  \n",
       "std              1.115086  \n",
       "min              0.000000  \n",
       "25%              0.000000  \n",
       "50%              0.000000  \n",
       "75%              1.000000  \n",
       "max             20.000000  "
      ]
     },
     "execution_count": 167,
     "metadata": {},
     "output_type": "execute_result"
    }
   ],
   "source": [
    "real_kag.describe()"
   ]
  },
  {
   "cell_type": "markdown",
   "metadata": {},
   "source": [
    "## Problem 1 part 1"
   ]
  },
  {
   "cell_type": "code",
   "execution_count": 168,
   "metadata": {},
   "outputs": [],
   "source": [
    "comp_var = {}\n",
    "comp_var.update(dict.fromkeys([col for col in real_kag.columns], {}))\n",
    "mean_df = pd.DataFrame()\n",
    "range_df = pd.DataFrame()\n",
    "std_df = pd.DataFrame()\n",
    "skew_df = pd.DataFrame()\n",
    "for col in real_kag.columns:\n",
    "    new_mean = pd.DataFrame(abs(real_kag[col].mean() - class_kag.mean()), columns=[col])\n",
    "    mean_df = pd.concat([mean_df, new_mean], axis=1)\n",
    "    new_std = pd.DataFrame(abs(real_kag[col].std() - class_kag.std()), columns=[col])\n",
    "    std_df = pd.concat([std_df, new_std], axis=1)\n",
    "    real_kag_range = real_kag[col].max() - real_kag[col].min()\n",
    "    class_kag_range = class_kag.max() - class_kag.min()\n",
    "    new_range = pd.DataFrame(abs(real_kag_range - class_kag_range), columns=[col])\n",
    "    range_df = pd.concat([range_df, new_range], axis=1)\n",
    "    skew_class = pd.DataFrame(skew(class_kag), index=[co for co in class_kag.columns], columns = [col])\n",
    "    skew_class.loc['F5'] = skew(class_kag['F5'].dropna(axis=0, how='any'))\n",
    "    skew_class.loc['F19'] = skew(class_kag['F19'].dropna(axis=0, how='any'))\n",
    "    skew_real = skew(real_kag[col].dropna(axis=0, how='any'))\n",
    "    new_skew = pd.DataFrame(abs(skew_real - skew_class))\n",
    "    skew_df = pd.concat([skew_df, new_skew], axis=1)"
   ]
  },
  {
   "cell_type": "code",
   "execution_count": 169,
   "metadata": {},
   "outputs": [
    {
     "data": {
      "text/html": [
       "<div>\n",
       "<style>\n",
       "    .dataframe thead tr:only-child th {\n",
       "        text-align: right;\n",
       "    }\n",
       "\n",
       "    .dataframe thead th {\n",
       "        text-align: left;\n",
       "    }\n",
       "\n",
       "    .dataframe tbody tr th {\n",
       "        vertical-align: top;\n",
       "    }\n",
       "</style>\n",
       "<table border=\"1\" class=\"dataframe\">\n",
       "  <thead>\n",
       "    <tr style=\"text-align: right;\">\n",
       "      <th></th>\n",
       "      <th>SeriousDlqin2yrs</th>\n",
       "      <th>RevolvingUtilizationOfUnsecuredLines</th>\n",
       "      <th>age</th>\n",
       "      <th>NumberOfTime30-59DaysPastDueNotWorse</th>\n",
       "      <th>DebtRatio</th>\n",
       "      <th>MonthlyIncome</th>\n",
       "      <th>NumberOfOpenCreditLinesAndLoans</th>\n",
       "      <th>NumberOfTimes90DaysLate</th>\n",
       "      <th>NumberRealEstateLoansOrLines</th>\n",
       "      <th>NumberOfTime60-89DaysPastDueNotWorse</th>\n",
       "      <th>NumberOfDependents</th>\n",
       "    </tr>\n",
       "  </thead>\n",
       "  <tbody>\n",
       "    <tr>\n",
       "      <th>Y</th>\n",
       "      <td>0.012235</td>\n",
       "      <td>94.174011</td>\n",
       "      <td>3.267595</td>\n",
       "      <td>19.140294</td>\n",
       "      <td>91.700254</td>\n",
       "      <td>110.582308</td>\n",
       "      <td>2.241286</td>\n",
       "      <td>19.630527</td>\n",
       "      <td>0.025862</td>\n",
       "      <td>19.874922</td>\n",
       "      <td>1.868361</td>\n",
       "    </tr>\n",
       "    <tr>\n",
       "      <th>F1</th>\n",
       "      <td>9.729614</td>\n",
       "      <td>84.432161</td>\n",
       "      <td>13.009444</td>\n",
       "      <td>9.398445</td>\n",
       "      <td>81.958405</td>\n",
       "      <td>100.840459</td>\n",
       "      <td>11.983135</td>\n",
       "      <td>9.888678</td>\n",
       "      <td>9.715988</td>\n",
       "      <td>10.133073</td>\n",
       "      <td>11.610211</td>\n",
       "    </tr>\n",
       "    <tr>\n",
       "      <th>F2</th>\n",
       "      <td>19.822990</td>\n",
       "      <td>74.338786</td>\n",
       "      <td>23.102820</td>\n",
       "      <td>0.694931</td>\n",
       "      <td>71.865029</td>\n",
       "      <td>90.747083</td>\n",
       "      <td>22.076511</td>\n",
       "      <td>0.204698</td>\n",
       "      <td>19.809363</td>\n",
       "      <td>0.039697</td>\n",
       "      <td>21.703586</td>\n",
       "    </tr>\n",
       "    <tr>\n",
       "      <th>F3</th>\n",
       "      <td>76.885665</td>\n",
       "      <td>17.276111</td>\n",
       "      <td>80.165495</td>\n",
       "      <td>57.757606</td>\n",
       "      <td>14.802354</td>\n",
       "      <td>33.684408</td>\n",
       "      <td>79.139186</td>\n",
       "      <td>57.267373</td>\n",
       "      <td>76.872038</td>\n",
       "      <td>57.022978</td>\n",
       "      <td>78.766261</td>\n",
       "    </tr>\n",
       "    <tr>\n",
       "      <th>F4</th>\n",
       "      <td>5.264190</td>\n",
       "      <td>88.897586</td>\n",
       "      <td>8.544019</td>\n",
       "      <td>13.863869</td>\n",
       "      <td>86.423829</td>\n",
       "      <td>105.305884</td>\n",
       "      <td>7.517710</td>\n",
       "      <td>14.354103</td>\n",
       "      <td>5.250563</td>\n",
       "      <td>14.598498</td>\n",
       "      <td>7.144786</td>\n",
       "    </tr>\n",
       "  </tbody>\n",
       "</table>\n",
       "</div>"
      ],
      "text/plain": [
       "    SeriousDlqin2yrs  RevolvingUtilizationOfUnsecuredLines        age  \\\n",
       "Y           0.012235                             94.174011   3.267595   \n",
       "F1          9.729614                             84.432161  13.009444   \n",
       "F2         19.822990                             74.338786  23.102820   \n",
       "F3         76.885665                             17.276111  80.165495   \n",
       "F4          5.264190                             88.897586   8.544019   \n",
       "\n",
       "    NumberOfTime30-59DaysPastDueNotWorse  DebtRatio  MonthlyIncome  \\\n",
       "Y                              19.140294  91.700254     110.582308   \n",
       "F1                              9.398445  81.958405     100.840459   \n",
       "F2                              0.694931  71.865029      90.747083   \n",
       "F3                             57.757606  14.802354      33.684408   \n",
       "F4                             13.863869  86.423829     105.305884   \n",
       "\n",
       "    NumberOfOpenCreditLinesAndLoans  NumberOfTimes90DaysLate  \\\n",
       "Y                          2.241286                19.630527   \n",
       "F1                        11.983135                 9.888678   \n",
       "F2                        22.076511                 0.204698   \n",
       "F3                        79.139186                57.267373   \n",
       "F4                         7.517710                14.354103   \n",
       "\n",
       "    NumberRealEstateLoansOrLines  NumberOfTime60-89DaysPastDueNotWorse  \\\n",
       "Y                       0.025862                             19.874922   \n",
       "F1                      9.715988                             10.133073   \n",
       "F2                     19.809363                              0.039697   \n",
       "F3                     76.872038                             57.022978   \n",
       "F4                      5.250563                             14.598498   \n",
       "\n",
       "    NumberOfDependents  \n",
       "Y             1.868361  \n",
       "F1           11.610211  \n",
       "F2           21.703586  \n",
       "F3           78.766261  \n",
       "F4            7.144786  "
      ]
     },
     "execution_count": 169,
     "metadata": {},
     "output_type": "execute_result"
    }
   ],
   "source": [
    "skew_df.head()"
   ]
  },
  {
   "cell_type": "code",
   "execution_count": 170,
   "metadata": {},
   "outputs": [
    {
     "name": "stdout",
     "output_type": "stream",
     "text": [
      "SeriousDlqin2yrs\n",
      "mean: Y\n",
      "std: F17\n",
      "Range: Y\n",
      "Skew: Y\n",
      "\n",
      "RevolvingUtilizationOfUnsecuredLines\n",
      "mean: F23\n",
      "std: F16\n",
      "Range: F9\n",
      "Skew: F27\n",
      "\n",
      "age\n",
      "mean: F26\n",
      "std: F18\n",
      "Range: F14\n",
      "Skew: F26\n",
      "\n",
      "NumberOfTime30-59DaysPastDueNotWorse\n",
      "mean: F25\n",
      "std: F25\n",
      "Range: F14\n",
      "Skew: F25\n",
      "\n",
      "DebtRatio\n",
      "mean: F27\n",
      "std: F27\n",
      "Range: F27\n",
      "Skew: F27\n",
      "\n",
      "MonthlyIncome\n",
      "mean: F19\n",
      "std: F19\n",
      "Range: F19\n",
      "Skew: F16\n",
      "\n",
      "NumberOfOpenCreditLinesAndLoans\n",
      "mean: F22\n",
      "std: F22\n",
      "Range: F22\n",
      "Skew: F22\n",
      "\n",
      "NumberOfTimes90DaysLate\n",
      "mean: F14\n",
      "std: F14\n",
      "Range: F14\n",
      "Skew: F14\n",
      "\n",
      "NumberRealEstateLoansOrLines\n",
      "mean: F10\n",
      "std: F10\n",
      "Range: F10\n",
      "Skew: Y\n",
      "\n",
      "NumberOfTime60-89DaysPastDueNotWorse\n",
      "mean: F2\n",
      "std: F2\n",
      "Range: F14\n",
      "Skew: F2\n",
      "\n",
      "NumberOfDependents\n",
      "mean: F5\n",
      "std: F5\n",
      "Range: F7\n",
      "Skew: F5\n",
      "\n"
     ]
    }
   ],
   "source": [
    "for col in real_kag.columns:\n",
    "    mean_df_new = mean_df.sort_values(by=col)\n",
    "    print(col)\n",
    "    print('mean: ' + str(mean_df_new.index[0]))\n",
    "    std_df_new = std_df.sort_values(by=col)\n",
    "    print('std: ' + str(std_df_new.index[0]))\n",
    "    range_df_new = range_df.sort_values(by=col)\n",
    "    print('Range: ' + str(range_df_new.index[0]))\n",
    "    skew_df_new = skew_df.sort_values(by=col)\n",
    "    print('Skew: ' + str(skew_df_new.index[0]))\n",
    "    print"
   ]
  },
  {
   "cell_type": "code",
   "execution_count": 171,
   "metadata": {},
   "outputs": [
    {
     "data": {
      "text/html": [
       "<div>\n",
       "<style>\n",
       "    .dataframe thead tr:only-child th {\n",
       "        text-align: right;\n",
       "    }\n",
       "\n",
       "    .dataframe thead th {\n",
       "        text-align: left;\n",
       "    }\n",
       "\n",
       "    .dataframe tbody tr th {\n",
       "        vertical-align: top;\n",
       "    }\n",
       "</style>\n",
       "<table border=\"1\" class=\"dataframe\">\n",
       "  <thead>\n",
       "    <tr style=\"text-align: right;\">\n",
       "      <th></th>\n",
       "      <th>F23</th>\n",
       "      <th>F16</th>\n",
       "      <th>F9</th>\n",
       "      <th>F27</th>\n",
       "    </tr>\n",
       "  </thead>\n",
       "  <tbody>\n",
       "    <tr>\n",
       "      <th>count</th>\n",
       "      <td>49998.000000</td>\n",
       "      <td>49998.000000</td>\n",
       "      <td>49998.000000</td>\n",
       "      <td>49998.000000</td>\n",
       "    </tr>\n",
       "    <tr>\n",
       "      <th>mean</th>\n",
       "      <td>5.273124</td>\n",
       "      <td>11.459969</td>\n",
       "      <td>7.583423</td>\n",
       "      <td>362.038515</td>\n",
       "    </tr>\n",
       "    <tr>\n",
       "      <th>std</th>\n",
       "      <td>224.529521</td>\n",
       "      <td>242.112949</td>\n",
       "      <td>288.967483</td>\n",
       "      <td>2212.369706</td>\n",
       "    </tr>\n",
       "    <tr>\n",
       "      <th>min</th>\n",
       "      <td>0.000000</td>\n",
       "      <td>1.770000</td>\n",
       "      <td>1.000000</td>\n",
       "      <td>0.000000</td>\n",
       "    </tr>\n",
       "    <tr>\n",
       "      <th>25%</th>\n",
       "      <td>0.030389</td>\n",
       "      <td>1.770000</td>\n",
       "      <td>1.000000</td>\n",
       "      <td>0.176205</td>\n",
       "    </tr>\n",
       "    <tr>\n",
       "      <th>50%</th>\n",
       "      <td>0.154672</td>\n",
       "      <td>1.770000</td>\n",
       "      <td>1.000000</td>\n",
       "      <td>0.366524</td>\n",
       "    </tr>\n",
       "    <tr>\n",
       "      <th>75%</th>\n",
       "      <td>0.555344</td>\n",
       "      <td>3.540000</td>\n",
       "      <td>2.000000</td>\n",
       "      <td>0.875057</td>\n",
       "    </tr>\n",
       "    <tr>\n",
       "      <th>max</th>\n",
       "      <td>29110.000000</td>\n",
       "      <td>35807.100000</td>\n",
       "      <td>59249.000000</td>\n",
       "      <td>329664.000000</td>\n",
       "    </tr>\n",
       "  </tbody>\n",
       "</table>\n",
       "</div>"
      ],
      "text/plain": [
       "                F23           F16            F9            F27\n",
       "count  49998.000000  49998.000000  49998.000000   49998.000000\n",
       "mean       5.273124     11.459969      7.583423     362.038515\n",
       "std      224.529521    242.112949    288.967483    2212.369706\n",
       "min        0.000000      1.770000      1.000000       0.000000\n",
       "25%        0.030389      1.770000      1.000000       0.176205\n",
       "50%        0.154672      1.770000      1.000000       0.366524\n",
       "75%        0.555344      3.540000      2.000000       0.875057\n",
       "max    29110.000000  35807.100000  59249.000000  329664.000000"
      ]
     },
     "execution_count": 171,
     "metadata": {},
     "output_type": "execute_result"
    }
   ],
   "source": [
    "class_kag.loc[:,('F23','F16','F9', 'F27')].describe()"
   ]
  },
  {
   "cell_type": "code",
   "execution_count": 172,
   "metadata": {},
   "outputs": [
    {
     "data": {
      "text/plain": [
       "count    150000.000000\n",
       "mean        353.005076\n",
       "std        2037.818523\n",
       "min           0.000000\n",
       "25%           0.175074\n",
       "50%           0.366508\n",
       "75%           0.868254\n",
       "max      329664.000000\n",
       "Name: DebtRatio, dtype: float64"
      ]
     },
     "execution_count": 172,
     "metadata": {},
     "output_type": "execute_result"
    }
   ],
   "source": [
    "real_kag['DebtRatio'].describe()"
   ]
  },
  {
   "cell_type": "code",
   "execution_count": 173,
   "metadata": {},
   "outputs": [
    {
     "data": {
      "text/plain": [
       "'Y'"
      ]
     },
     "execution_count": 173,
     "metadata": {},
     "output_type": "execute_result"
    }
   ],
   "source": [
    "mean_df.sort_values(by='MonthlyIncome')\n",
    "mean_df.index[0]"
   ]
  },
  {
   "cell_type": "markdown",
   "metadata": {},
   "source": [
    "I used the statistical descriptors mean, range, std, and skew for each feature and found the difference between those descriptors for the real and class dataset. The feature in the class dataset which had the smallest difference with a column in the real dataset won that particular descriptor. I then reviewed the winners of each stat for each feature in the real data set. The results are shown above. The real features that matched with a singular class feature the majority of the time listed below.<br>\n",
    "\n",
    "SeriousDlqin2yrs = Y\n",
    "\n",
    "NumberOfTime30-59DaysPastDueNotWorse = F25\n",
    "\n",
    "DebtRatio = F27\n",
    "\n",
    "MonthlyIncome = F19\n",
    "\n",
    "NumberOfOpenCreditLinesAndLoans = F22\n",
    "\n",
    "NumberOfTimes90DaysLate = F14\n",
    "\n",
    "NumberRealEstateLoansOrLines = F10\n",
    "\n",
    "NumberOfTime60-89DaysPastDueNotWorse = F2\n",
    "\n",
    "NumberOfDependents = F5"
   ]
  },
  {
   "cell_type": "markdown",
   "metadata": {},
   "source": [
    "Some of the real features matched with multiple class features. This is probably due to a close tie in one of the stat categories. For these features I would use the Pandas DataFrame method Describe method to decide which of the possible class feature corresponded to the real feature. The determined matching pairs are shown below.<br>\n",
    "\n",
    "age = F26\n",
    "\n",
    "RevolvingUtilizationOfUnsecuredLines = F23 "
   ]
  },
  {
   "cell_type": "markdown",
   "metadata": {},
   "source": [
    "## Part 2"
   ]
  },
  {
   "cell_type": "code",
   "execution_count": 174,
   "metadata": {},
   "outputs": [
    {
     "data": {
      "text/html": [
       "<div>\n",
       "<style>\n",
       "    .dataframe thead tr:only-child th {\n",
       "        text-align: right;\n",
       "    }\n",
       "\n",
       "    .dataframe thead th {\n",
       "        text-align: left;\n",
       "    }\n",
       "\n",
       "    .dataframe tbody tr th {\n",
       "        vertical-align: top;\n",
       "    }\n",
       "</style>\n",
       "<table border=\"1\" class=\"dataframe\">\n",
       "  <thead>\n",
       "    <tr style=\"text-align: right;\">\n",
       "      <th></th>\n",
       "      <th>SeriousDlqin2yrs</th>\n",
       "      <th>RevolvingUtilizationOfUnsecuredLines</th>\n",
       "      <th>age</th>\n",
       "      <th>NumberOfTime30-59DaysPastDueNotWorse</th>\n",
       "      <th>DebtRatio</th>\n",
       "      <th>MonthlyIncome</th>\n",
       "      <th>NumberOfOpenCreditLinesAndLoans</th>\n",
       "      <th>NumberOfTimes90DaysLate</th>\n",
       "      <th>NumberRealEstateLoansOrLines</th>\n",
       "      <th>NumberOfTime60-89DaysPastDueNotWorse</th>\n",
       "      <th>NumberOfDependents</th>\n",
       "    </tr>\n",
       "  </thead>\n",
       "  <tbody>\n",
       "    <tr>\n",
       "      <th>1</th>\n",
       "      <td>1</td>\n",
       "      <td>0.766127</td>\n",
       "      <td>45</td>\n",
       "      <td>2</td>\n",
       "      <td>0.802982</td>\n",
       "      <td>9120.0</td>\n",
       "      <td>13</td>\n",
       "      <td>0</td>\n",
       "      <td>6</td>\n",
       "      <td>0</td>\n",
       "      <td>2.0</td>\n",
       "    </tr>\n",
       "    <tr>\n",
       "      <th>2</th>\n",
       "      <td>0</td>\n",
       "      <td>0.957151</td>\n",
       "      <td>40</td>\n",
       "      <td>0</td>\n",
       "      <td>0.121876</td>\n",
       "      <td>2600.0</td>\n",
       "      <td>4</td>\n",
       "      <td>0</td>\n",
       "      <td>0</td>\n",
       "      <td>0</td>\n",
       "      <td>1.0</td>\n",
       "    </tr>\n",
       "    <tr>\n",
       "      <th>3</th>\n",
       "      <td>0</td>\n",
       "      <td>0.658180</td>\n",
       "      <td>38</td>\n",
       "      <td>1</td>\n",
       "      <td>0.085113</td>\n",
       "      <td>3042.0</td>\n",
       "      <td>2</td>\n",
       "      <td>1</td>\n",
       "      <td>0</td>\n",
       "      <td>0</td>\n",
       "      <td>0.0</td>\n",
       "    </tr>\n",
       "    <tr>\n",
       "      <th>4</th>\n",
       "      <td>0</td>\n",
       "      <td>0.233810</td>\n",
       "      <td>30</td>\n",
       "      <td>0</td>\n",
       "      <td>0.036050</td>\n",
       "      <td>3300.0</td>\n",
       "      <td>5</td>\n",
       "      <td>0</td>\n",
       "      <td>0</td>\n",
       "      <td>0</td>\n",
       "      <td>0.0</td>\n",
       "    </tr>\n",
       "    <tr>\n",
       "      <th>5</th>\n",
       "      <td>0</td>\n",
       "      <td>0.907239</td>\n",
       "      <td>49</td>\n",
       "      <td>1</td>\n",
       "      <td>0.024926</td>\n",
       "      <td>63588.0</td>\n",
       "      <td>7</td>\n",
       "      <td>0</td>\n",
       "      <td>1</td>\n",
       "      <td>0</td>\n",
       "      <td>0.0</td>\n",
       "    </tr>\n",
       "  </tbody>\n",
       "</table>\n",
       "</div>"
      ],
      "text/plain": [
       "   SeriousDlqin2yrs  RevolvingUtilizationOfUnsecuredLines  age  \\\n",
       "1                 1                              0.766127   45   \n",
       "2                 0                              0.957151   40   \n",
       "3                 0                              0.658180   38   \n",
       "4                 0                              0.233810   30   \n",
       "5                 0                              0.907239   49   \n",
       "\n",
       "   NumberOfTime30-59DaysPastDueNotWorse  DebtRatio  MonthlyIncome  \\\n",
       "1                                     2   0.802982         9120.0   \n",
       "2                                     0   0.121876         2600.0   \n",
       "3                                     1   0.085113         3042.0   \n",
       "4                                     0   0.036050         3300.0   \n",
       "5                                     1   0.024926        63588.0   \n",
       "\n",
       "   NumberOfOpenCreditLinesAndLoans  NumberOfTimes90DaysLate  \\\n",
       "1                               13                        0   \n",
       "2                                4                        0   \n",
       "3                                2                        1   \n",
       "4                                5                        0   \n",
       "5                                7                        0   \n",
       "\n",
       "   NumberRealEstateLoansOrLines  NumberOfTime60-89DaysPastDueNotWorse  \\\n",
       "1                             6                                     0   \n",
       "2                             0                                     0   \n",
       "3                             0                                     0   \n",
       "4                             0                                     0   \n",
       "5                             1                                     0   \n",
       "\n",
       "   NumberOfDependents  \n",
       "1                 2.0  \n",
       "2                 1.0  \n",
       "3                 0.0  \n",
       "4                 0.0  \n",
       "5                 0.0  "
      ]
     },
     "execution_count": 174,
     "metadata": {},
     "output_type": "execute_result"
    }
   ],
   "source": [
    "real_kag.head()"
   ]
  },
  {
   "cell_type": "code",
   "execution_count": 175,
   "metadata": {
    "collapsed": true
   },
   "outputs": [],
   "source": [
    "real_kag.fillna(0, inplace=True)"
   ]
  },
  {
   "cell_type": "code",
   "execution_count": 176,
   "metadata": {
    "collapsed": true
   },
   "outputs": [],
   "source": [
    "real_kag_x = real_kag.loc[:,\"RevolvingUtilizationOfUnsecuredLines\":\"NumberOfDependents\"]\n",
    "real_kag_y = real_kag['SeriousDlqin2yrs']"
   ]
  },
  {
   "cell_type": "code",
   "execution_count": 177,
   "metadata": {
    "collapsed": true
   },
   "outputs": [],
   "source": [
    "from sklearn.linear_model import LogisticRegression"
   ]
  },
  {
   "cell_type": "code",
   "execution_count": 178,
   "metadata": {},
   "outputs": [
    {
     "data": {
      "text/plain": [
       "LogisticRegression(C=1.0, class_weight=None, dual=False, fit_intercept=True,\n",
       "          intercept_scaling=1, max_iter=100, multi_class='ovr', n_jobs=1,\n",
       "          penalty='l2', random_state=None, solver='liblinear', tol=0.0001,\n",
       "          verbose=0, warm_start=False)"
      ]
     },
     "execution_count": 178,
     "metadata": {},
     "output_type": "execute_result"
    }
   ],
   "source": [
    "simple_model = LogisticRegression()\n",
    "simple_model.fit(real_kag_x, real_kag_y)"
   ]
  },
  {
   "cell_type": "code",
   "execution_count": 179,
   "metadata": {},
   "outputs": [
    {
     "data": {
      "text/plain": [
       "array([[ -4.06438460e-05,  -3.14292597e-02,   4.85238284e-01,\n",
       "         -6.16090584e-05,  -3.09413194e-05,  -7.16899437e-03,\n",
       "          3.90650911e-01,   4.96960419e-02,  -8.44914688e-01,\n",
       "          9.06848392e-02]])"
      ]
     },
     "execution_count": 179,
     "metadata": {},
     "output_type": "execute_result"
    }
   ],
   "source": [
    "simple_model.coef_"
   ]
  },
  {
   "cell_type": "code",
   "execution_count": 180,
   "metadata": {},
   "outputs": [
    {
     "name": "stdout",
     "output_type": "stream",
     "text": [
      "RevolvingUtilizationOfUnsecuredLines: -0.00004064\n",
      "age: -0.03142926\n",
      "NumberOfTime30-59DaysPastDueNotWorse: 0.48523828\n",
      "DebtRatio: -0.00006161\n",
      "MonthlyIncome: -0.00003094\n",
      "NumberOfOpenCreditLinesAndLoans: -0.00716899\n",
      "NumberOfTimes90DaysLate: 0.39065091\n",
      "NumberRealEstateLoansOrLines: 0.04969604\n",
      "NumberOfTime60-89DaysPastDueNotWorse: -0.84491469\n",
      "NumberOfDependents: 0.09068484\n"
     ]
    }
   ],
   "source": [
    "for i, col in enumerate(real_kag_x.columns):\n",
    "    print(str(col) + \": {:0.8f}\".format(simple_model.coef_[0][i]))"
   ]
  },
  {
   "cell_type": "code",
   "execution_count": 181,
   "metadata": {},
   "outputs": [
    {
     "data": {
      "text/plain": [
       "-0.092823958264785109"
      ]
     },
     "execution_count": 181,
     "metadata": {},
     "output_type": "execute_result"
    }
   ],
   "source": [
    "simple_model.coef_[0][4] *3000"
   ]
  },
  {
   "cell_type": "markdown",
   "metadata": {},
   "source": [
    "Based on the definition of the coefficients of logisitic regression, an increase in monthly income will decrease the log likelihood of serious deliquency by -3.09413194e-05 per unit change in monthly income. So with an increase of 1000, 2000 and 3000 units, the log likelihood of serious deliquency would decrease by 0.03094, 0.06188, and 0.09282 respectively."
   ]
  },
  {
   "cell_type": "code",
   "execution_count": 182,
   "metadata": {
    "collapsed": true
   },
   "outputs": [],
   "source": [
    "import xgboost as xgb"
   ]
  },
  {
   "cell_type": "code",
   "execution_count": 183,
   "metadata": {},
   "outputs": [
    {
     "data": {
      "text/plain": [
       "XGBClassifier(base_score=0.5, colsample_bylevel=1, colsample_bytree=0.8,\n",
       "       gamma=0, learning_rate=0.1, max_delta_step=0, max_depth=8,\n",
       "       min_child_weight=30, missing=None, n_estimators=100, nthread=16,\n",
       "       objective='binary:logistic', reg_alpha=0, reg_lambda=1,\n",
       "       scale_pos_weight=1, seed=0, silent=True, subsample=0.5)"
      ]
     },
     "execution_count": 183,
     "metadata": {},
     "output_type": "execute_result"
    }
   ],
   "source": [
    "ind_params = {'n_estimators': 100, 'seed':0, 'colsample_bytree': 0.8, \n",
    "             'objective': 'binary:logistic','nthread':16, 'max_depth' :8,\n",
    "             'learning_rate':0.1, 'subsample':0.5, 'min_child_weight':30,\n",
    "             'gamma':0}\n",
    "complex_model = xgb.XGBClassifier(**ind_params)\n",
    "complex_model.fit(real_kag_x, real_kag_y)"
   ]
  },
  {
   "cell_type": "code",
   "execution_count": 184,
   "metadata": {
    "collapsed": true
   },
   "outputs": [],
   "source": [
    "import copy"
   ]
  },
  {
   "cell_type": "code",
   "execution_count": 185,
   "metadata": {},
   "outputs": [],
   "source": [
    "prob1_base = np.mean(complex_model.predict_proba(real_kag_x)[:,1])"
   ]
  },
  {
   "cell_type": "code",
   "execution_count": 186,
   "metadata": {
    "collapsed": true
   },
   "outputs": [],
   "source": [
    "real_kag_x_inc = copy.deepcopy(real_kag_x)"
   ]
  },
  {
   "cell_type": "code",
   "execution_count": 187,
   "metadata": {
    "collapsed": true
   },
   "outputs": [],
   "source": [
    "real_kag_x_inc['MonthlyIncome'] = real_kag_x_inc['MonthlyIncome'] + 1000"
   ]
  },
  {
   "cell_type": "code",
   "execution_count": 188,
   "metadata": {},
   "outputs": [],
   "source": [
    "prob1_1000 = np.mean(complex_model.predict_proba(real_kag_x_inc)[:,1])"
   ]
  },
  {
   "cell_type": "code",
   "execution_count": 189,
   "metadata": {
    "collapsed": true
   },
   "outputs": [],
   "source": [
    "real_kag_x_inc['MonthlyIncome'] = real_kag_x_inc['MonthlyIncome'] + 1000"
   ]
  },
  {
   "cell_type": "code",
   "execution_count": 190,
   "metadata": {},
   "outputs": [],
   "source": [
    "prob1_2000 = np.mean(complex_model.predict_proba(real_kag_x_inc)[:,1])"
   ]
  },
  {
   "cell_type": "code",
   "execution_count": 191,
   "metadata": {
    "collapsed": true
   },
   "outputs": [],
   "source": [
    "real_kag_x_inc['MonthlyIncome'] = real_kag_x_inc['MonthlyIncome'] + 1000"
   ]
  },
  {
   "cell_type": "code",
   "execution_count": 192,
   "metadata": {},
   "outputs": [],
   "source": [
    "prob1_3000 = np.mean(complex_model.predict_proba(real_kag_x_inc)[:,1])"
   ]
  },
  {
   "cell_type": "code",
   "execution_count": 195,
   "metadata": {},
   "outputs": [
    {
     "name": "stdout",
     "output_type": "stream",
     "text": [
      "The probability of predicting 1 with 1000 added MonthlyIncome decreases by 0.000311978161335\n",
      "The probability of predicting 1 with 2000 added MonthlyIncome decreases by 0.00102341175079\n",
      "The probability of predicting 1 with 3000 added MonthlyIncome decreases by 0.000890024006367\n"
     ]
    }
   ],
   "source": [
    "print(\"The probability of predicting 1 with 1000 added MonthlyIncome decreases by {}\".format(prob1_base - prob1_1000))\n",
    "print(\"The probability of predicting 1 with 2000 added MonthlyIncome decreases by {}\".format(prob1_base - prob1_2000))\n",
    "print(\"The probability of predicting 1 with 3000 added MonthlyIncome decreases by {}\".format(prob1_base - prob1_3000))"
   ]
  },
  {
   "cell_type": "markdown",
   "metadata": {},
   "source": [
    "## Part 3"
   ]
  },
  {
   "cell_type": "code",
   "execution_count": 200,
   "metadata": {},
   "outputs": [],
   "source": [
    "feat_complex = complex_model.feature_importances_"
   ]
  },
  {
   "cell_type": "code",
   "execution_count": 202,
   "metadata": {},
   "outputs": [
    {
     "name": "stdout",
     "output_type": "stream",
     "text": [
      "RevolvingUtilizationOfUnsecuredLines: 0.201532\n",
      "age: 0.133765\n",
      "NumberOfTime30-59DaysPastDueNotWorse: 0.0469456\n",
      "DebtRatio: 0.202318\n",
      "MonthlyIncome: 0.171283\n",
      "NumberOfOpenCreditLinesAndLoans: 0.0946769\n",
      "NumberOfTimes90DaysLate: 0.034178\n",
      "NumberRealEstateLoansOrLines: 0.0483206\n",
      "NumberOfTime60-89DaysPastDueNotWorse: 0.0294638\n",
      "NumberOfDependents: 0.0375172\n"
     ]
    }
   ],
   "source": [
    "for i, col in enumerate(real_kag_x.columns):\n",
    "    print(col + \": \" + str(feat_complex[i]))"
   ]
  },
  {
   "cell_type": "markdown",
   "metadata": {},
   "source": [
    "Based on using xgb boost classifier and looking at the feature importance attribute, the most important feature is DebtRatio."
   ]
  },
  {
   "cell_type": "code",
   "execution_count": 211,
   "metadata": {
    "collapsed": true
   },
   "outputs": [],
   "source": [
    "from sklearn.model_selection import train_test_split\n",
    "from sklearn.preprocessing import StandardScaler\n",
    "from sklearn.metrics import accuracy_score\n",
    "from sklearn.discriminant_analysis import LinearDiscriminantAnalysis"
   ]
  },
  {
   "cell_type": "code",
   "execution_count": 208,
   "metadata": {},
   "outputs": [],
   "source": [
    "scaler = StandardScaler()\n",
    "real_kag_x_scale = pd.DataFrame(scaler.fit_transform(real_kag_x),columns=real_kag_x.columns)\n",
    "X_train, X_test, y_train, y_test = train_test_split(real_kag_x_scale, real_kag_y, test_size=0.25, random_state=42, stratify=real_kag_y)\n"
   ]
  },
  {
   "cell_type": "code",
   "execution_count": 212,
   "metadata": {},
   "outputs": [],
   "source": [
    "lda_model = LinearDiscriminantAnalysis()\n",
    "lda_model.fit(X_train.loc[:,('RevolvingUtilizationOfUnsecuredLines', 'age')], y_train)\n",
    "y_pred = lda_model.predict(X_test.loc[:,('RevolvingUtilizationOfUnsecuredLines', 'age')])\n",
    "new_score = accuracy_score(y_test, y_pred)"
   ]
  },
  {
   "cell_type": "code",
   "execution_count": 213,
   "metadata": {},
   "outputs": [
    {
     "data": {
      "text/plain": [
       "0.9331733333333333"
      ]
     },
     "execution_count": 213,
     "metadata": {},
     "output_type": "execute_result"
    }
   ],
   "source": [
    "new_score"
   ]
  },
  {
   "cell_type": "code",
   "execution_count": 214,
   "metadata": {},
   "outputs": [
    {
     "name": "stdout",
     "output_type": "stream",
     "text": [
      "('NumberOfTimes90DaysLate', 'NumberOfTime60-89DaysPastDueNotWorse')\n",
      "0.934373333333\n"
     ]
    }
   ],
   "source": [
    "diff_feat = list(real_kag_x.columns)\n",
    "diff_feat2 = list(real_kag_x.columns)\n",
    "lda_model = LinearDiscriminantAnalysis()\n",
    "lda_model = LinearDiscriminantAnalysis()\n",
    "lda_model.fit(X_train.loc[:,('RevolvingUtilizationOfUnsecuredLines', 'age')], y_train)\n",
    "y_pred = lda_model.predict(X_test.loc[:,('RevolvingUtilizationOfUnsecuredLines', 'age')])\n",
    "new_score = accuracy_score(y_test, y_pred)\n",
    "best_pair = ('RevolvingUtilizationOfUnsecuredLines', 'age')\n",
    "best_score = new_score\n",
    "for feat1 in diff_feat:\n",
    "    for i, feat2 in enumerate(diff_feat2):\n",
    "        if( feat1== feat2):\n",
    "            continue\n",
    "        lda_model.fit(X_train.loc[:,(feat1, feat2)], y_train)\n",
    "        y_pred = lda_model.predict(X_test.loc[:,(feat1, feat2)])\n",
    "        new_score = accuracy_score(y_test, y_pred)\n",
    "        if(new_score > best_score):\n",
    "            best_pair = (feat1, feat2)\n",
    "            best_score = new_score\n",
    "        if(i == len(diff_feat2)- 1):\n",
    "            diff_feat2.pop(0)\n",
    "print(best_pair)\n",
    "print(best_score)"
   ]
  },
  {
   "cell_type": "markdown",
   "metadata": {},
   "source": [
    "By combining all pairs of features and doing a LDA classifier on them the best Pair of features are 'NumberOfTimes90DaysLate' and 'NumberOfTime60-89DaysPastDueNotWorse'."
   ]
  },
  {
   "cell_type": "markdown",
   "metadata": {},
   "source": [
    "## Problem  2"
   ]
  },
  {
   "cell_type": "markdown",
   "metadata": {},
   "source": [
    "## Part A"
   ]
  },
  {
   "cell_type": "code",
   "execution_count": 105,
   "metadata": {
    "collapsed": true
   },
   "outputs": [],
   "source": [
    "x = np.linspace(0, 20 * np.pi, num = 10000)\n",
    "y = np.cos(x)"
   ]
  },
  {
   "cell_type": "code",
   "execution_count": 106,
   "metadata": {},
   "outputs": [],
   "source": [
    "correlation = np.corrcoef(x, y)"
   ]
  },
  {
   "cell_type": "code",
   "execution_count": 107,
   "metadata": {},
   "outputs": [
    {
     "name": "stdout",
     "output_type": "stream",
     "text": [
      "correlation between x & y is 3.27923487628e-17\n"
     ]
    }
   ],
   "source": [
    "print(\"correlation between x & y is {}\".format(correlation[0][1]))"
   ]
  },
  {
   "cell_type": "markdown",
   "metadata": {},
   "source": [
    "x and y are dependent due to y = cos(x), but as evident from the calculated correlation which approaches 0 as the number of samples increases, the two are not correlated."
   ]
  },
  {
   "cell_type": "markdown",
   "metadata": {},
   "source": [
    "## Part B"
   ]
  },
  {
   "cell_type": "code",
   "execution_count": 108,
   "metadata": {
    "collapsed": true
   },
   "outputs": [],
   "source": [
    "from sklearn.linear_model import LinearRegression"
   ]
  },
  {
   "cell_type": "code",
   "execution_count": 109,
   "metadata": {
    "collapsed": true
   },
   "outputs": [],
   "source": [
    "model = LinearRegression()"
   ]
  },
  {
   "cell_type": "code",
   "execution_count": 110,
   "metadata": {
    "collapsed": true
   },
   "outputs": [],
   "source": [
    "x = x.reshape(-1,1)"
   ]
  },
  {
   "cell_type": "code",
   "execution_count": 111,
   "metadata": {},
   "outputs": [
    {
     "data": {
      "text/plain": [
       "LinearRegression(copy_X=True, fit_intercept=True, n_jobs=1, normalize=False)"
      ]
     },
     "execution_count": 111,
     "metadata": {},
     "output_type": "execute_result"
    }
   ],
   "source": [
    "model.fit(x, y)"
   ]
  },
  {
   "cell_type": "code",
   "execution_count": 112,
   "metadata": {},
   "outputs": [
    {
     "data": {
      "text/plain": [
       "array([  2.40109080e-18])"
      ]
     },
     "execution_count": 112,
     "metadata": {},
     "output_type": "execute_result"
    }
   ],
   "source": [
    "model.coef_"
   ]
  },
  {
   "cell_type": "markdown",
   "metadata": {},
   "source": [
    "Shows that the beta coefficient is equal to zero."
   ]
  },
  {
   "cell_type": "code",
   "execution_count": 113,
   "metadata": {
    "collapsed": true
   },
   "outputs": [],
   "source": [
    "y_pred = model.predict(x)"
   ]
  },
  {
   "cell_type": "code",
   "execution_count": 114,
   "metadata": {},
   "outputs": [
    {
     "data": {
      "text/plain": [
       "array([  1.00000000e-04,   1.00000000e-04,   1.00000000e-04, ...,\n",
       "         1.00000000e-04,   1.00000000e-04,   1.00000000e-04])"
      ]
     },
     "execution_count": 114,
     "metadata": {},
     "output_type": "execute_result"
    }
   ],
   "source": [
    "y_pred"
   ]
  },
  {
   "cell_type": "code",
   "execution_count": 123,
   "metadata": {},
   "outputs": [
    {
     "data": {
      "text/plain": [
       "<matplotlib.collections.PathCollection at 0x1401ad30>"
      ]
     },
     "execution_count": 123,
     "metadata": {},
     "output_type": "execute_result"
    },
    {
     "data": {
      "image/png": "[encoded data removed]",
      "text/plain": [
       "<matplotlib.figure.Figure at 0x13f49278>"
      ]
     },
     "metadata": {},
     "output_type": "display_data"
    }
   ],
   "source": [
    "fig = plt.figure()\n",
    "ax = fig.add_subplot(1,1,1)\n",
    "ax.scatter(x, y)\n",
    "ax.scatter(x, y_pred, c='r')"
   ]
  },
  {
   "cell_type": "markdown",
   "metadata": {},
   "source": [
    "The plot above shows a linear regression with feature coefficient equal to zero."
   ]
  },
  {
   "cell_type": "code",
   "execution_count": null,
   "metadata": {
    "collapsed": true
   },
   "outputs": [],
   "source": []
  }
 ],
 "metadata": {
  "kernelspec": {
   "display_name": "Python 2",
   "language": "python",
   "name": "python2"
  },
  "language_info": {
   "codemirror_mode": {
    "name": "ipython",
    "version": 2
   },
   "file_extension": ".py",
   "mimetype": "text/x-python",
   "name": "python",
   "nbconvert_exporter": "python",
   "pygments_lexer": "ipython2",
   "version": "2.7.13"
  }
 },
 "nbformat": 4,
 "nbformat_minor": 2
}
